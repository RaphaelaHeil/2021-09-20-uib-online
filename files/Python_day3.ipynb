{
 "cells": [
  {
   "cell_type": "markdown",
   "id": "0a072416-07b5-49f8-a72a-e9ee1d8456c7",
   "metadata": {},
   "source": [
    "# Python Day 3"
   ]
  },
  {
   "cell_type": "markdown",
   "id": "40018728-7d86-4cc4-8253-e0528195a949",
   "metadata": {},
   "source": [
    "## Recap"
   ]
  },
  {
   "cell_type": "code",
   "execution_count": 1,
   "id": "c17b5cc6-24a3-4fa4-ae6c-751ddc87f020",
   "metadata": {},
   "outputs": [],
   "source": [
    "masses = [3.54, 2.07, 9.22, 1.86, 1.171]"
   ]
  },
  {
   "cell_type": "code",
   "execution_count": 2,
   "id": "13305842-b49e-4de9-b7bc-4617ff893ec3",
   "metadata": {},
   "outputs": [
    {
     "name": "stdout",
     "output_type": "stream",
     "text": [
      "[3.54, 2.07, 9.22, 1.86, 1.171]\n"
     ]
    }
   ],
   "source": [
    "print(masses)"
   ]
  },
  {
   "cell_type": "code",
   "execution_count": 3,
   "id": "93201421-6ef2-4b50-843f-cbff0e1a03a6",
   "metadata": {},
   "outputs": [
    {
     "name": "stdout",
     "output_type": "stream",
     "text": [
      "3.54\n"
     ]
    }
   ],
   "source": [
    "print(masses[0])"
   ]
  },
  {
   "cell_type": "code",
   "execution_count": 4,
   "id": "9c5c8296-08cb-438c-99a4-844ddecc1fa3",
   "metadata": {},
   "outputs": [
    {
     "name": "stdout",
     "output_type": "stream",
     "text": [
      "[9.22]\n"
     ]
    }
   ],
   "source": [
    "print(masses[2:3])"
   ]
  },
  {
   "cell_type": "code",
   "execution_count": 5,
   "id": "08d94aa1-de2b-46f7-8282-1a90265f1cec",
   "metadata": {},
   "outputs": [
    {
     "name": "stdout",
     "output_type": "stream",
     "text": [
      "1.171\n"
     ]
    }
   ],
   "source": [
    "print(masses[-1])"
   ]
  },
  {
   "cell_type": "code",
   "execution_count": 6,
   "id": "ff41de5d-27d4-437b-9002-3559f41dd20c",
   "metadata": {},
   "outputs": [
    {
     "name": "stdout",
     "output_type": "stream",
     "text": [
      "3.54 is large\n",
      "2.07 is small\n",
      "9.22 is HUGE\n",
      "1.86 is small\n",
      "1.171 is small\n"
     ]
    }
   ],
   "source": [
    "for mass in masses:\n",
    "    if mass > 9.0:\n",
    "        print(mass, \"is HUGE\")\n",
    "    elif mass > 3.0:\n",
    "        print(mass, \"is large\")\n",
    "    else:\n",
    "        print(mass, \"is small\")"
   ]
  },
  {
   "cell_type": "code",
   "execution_count": 7,
   "id": "3410b2e2-2635-4b89-91ca-c85be9b16038",
   "metadata": {},
   "outputs": [],
   "source": [
    "import pandas as pd"
   ]
  },
  {
   "cell_type": "code",
   "execution_count": 8,
   "id": "7f86a72e-97ef-4b21-a9ee-158b7966912f",
   "metadata": {},
   "outputs": [],
   "source": [
    "data_all = pd.read_csv(\"data/gapminder_all.csv\", index_col=\"country\")"
   ]
  },
  {
   "cell_type": "code",
   "execution_count": 9,
   "id": "303278fe-e7c4-4209-99d4-d5a95d236761",
   "metadata": {},
   "outputs": [
    {
     "data": {
      "text/html": [
       "<div>\n",
       "<style scoped>\n",
       "    .dataframe tbody tr th:only-of-type {\n",
       "        vertical-align: middle;\n",
       "    }\n",
       "\n",
       "    .dataframe tbody tr th {\n",
       "        vertical-align: top;\n",
       "    }\n",
       "\n",
       "    .dataframe thead th {\n",
       "        text-align: right;\n",
       "    }\n",
       "</style>\n",
       "<table border=\"1\" class=\"dataframe\">\n",
       "  <thead>\n",
       "    <tr style=\"text-align: right;\">\n",
       "      <th></th>\n",
       "      <th>continent</th>\n",
       "      <th>gdpPercap_1952</th>\n",
       "      <th>gdpPercap_1957</th>\n",
       "      <th>gdpPercap_1962</th>\n",
       "      <th>gdpPercap_1967</th>\n",
       "      <th>gdpPercap_1972</th>\n",
       "      <th>gdpPercap_1977</th>\n",
       "      <th>gdpPercap_1982</th>\n",
       "      <th>gdpPercap_1987</th>\n",
       "      <th>gdpPercap_1992</th>\n",
       "      <th>...</th>\n",
       "      <th>pop_1962</th>\n",
       "      <th>pop_1967</th>\n",
       "      <th>pop_1972</th>\n",
       "      <th>pop_1977</th>\n",
       "      <th>pop_1982</th>\n",
       "      <th>pop_1987</th>\n",
       "      <th>pop_1992</th>\n",
       "      <th>pop_1997</th>\n",
       "      <th>pop_2002</th>\n",
       "      <th>pop_2007</th>\n",
       "    </tr>\n",
       "    <tr>\n",
       "      <th>country</th>\n",
       "      <th></th>\n",
       "      <th></th>\n",
       "      <th></th>\n",
       "      <th></th>\n",
       "      <th></th>\n",
       "      <th></th>\n",
       "      <th></th>\n",
       "      <th></th>\n",
       "      <th></th>\n",
       "      <th></th>\n",
       "      <th></th>\n",
       "      <th></th>\n",
       "      <th></th>\n",
       "      <th></th>\n",
       "      <th></th>\n",
       "      <th></th>\n",
       "      <th></th>\n",
       "      <th></th>\n",
       "      <th></th>\n",
       "      <th></th>\n",
       "      <th></th>\n",
       "    </tr>\n",
       "  </thead>\n",
       "  <tbody>\n",
       "    <tr>\n",
       "      <th>Algeria</th>\n",
       "      <td>Africa</td>\n",
       "      <td>2449.008185</td>\n",
       "      <td>3013.976023</td>\n",
       "      <td>2550.816880</td>\n",
       "      <td>3246.991771</td>\n",
       "      <td>4182.663766</td>\n",
       "      <td>4910.416756</td>\n",
       "      <td>5745.160213</td>\n",
       "      <td>5681.358539</td>\n",
       "      <td>5023.216647</td>\n",
       "      <td>...</td>\n",
       "      <td>11000948.0</td>\n",
       "      <td>12760499.0</td>\n",
       "      <td>14760787.0</td>\n",
       "      <td>17152804.0</td>\n",
       "      <td>20033753.0</td>\n",
       "      <td>23254956.0</td>\n",
       "      <td>26298373.0</td>\n",
       "      <td>29072015.0</td>\n",
       "      <td>31287142</td>\n",
       "      <td>33333216</td>\n",
       "    </tr>\n",
       "    <tr>\n",
       "      <th>Angola</th>\n",
       "      <td>Africa</td>\n",
       "      <td>3520.610273</td>\n",
       "      <td>3827.940465</td>\n",
       "      <td>4269.276742</td>\n",
       "      <td>5522.776375</td>\n",
       "      <td>5473.288005</td>\n",
       "      <td>3008.647355</td>\n",
       "      <td>2756.953672</td>\n",
       "      <td>2430.208311</td>\n",
       "      <td>2627.845685</td>\n",
       "      <td>...</td>\n",
       "      <td>4826015.0</td>\n",
       "      <td>5247469.0</td>\n",
       "      <td>5894858.0</td>\n",
       "      <td>6162675.0</td>\n",
       "      <td>7016384.0</td>\n",
       "      <td>7874230.0</td>\n",
       "      <td>8735988.0</td>\n",
       "      <td>9875024.0</td>\n",
       "      <td>10866106</td>\n",
       "      <td>12420476</td>\n",
       "    </tr>\n",
       "    <tr>\n",
       "      <th>Benin</th>\n",
       "      <td>Africa</td>\n",
       "      <td>1062.752200</td>\n",
       "      <td>959.601080</td>\n",
       "      <td>949.499064</td>\n",
       "      <td>1035.831411</td>\n",
       "      <td>1085.796879</td>\n",
       "      <td>1029.161251</td>\n",
       "      <td>1277.897616</td>\n",
       "      <td>1225.856010</td>\n",
       "      <td>1191.207681</td>\n",
       "      <td>...</td>\n",
       "      <td>2151895.0</td>\n",
       "      <td>2427334.0</td>\n",
       "      <td>2761407.0</td>\n",
       "      <td>3168267.0</td>\n",
       "      <td>3641603.0</td>\n",
       "      <td>4243788.0</td>\n",
       "      <td>4981671.0</td>\n",
       "      <td>6066080.0</td>\n",
       "      <td>7026113</td>\n",
       "      <td>8078314</td>\n",
       "    </tr>\n",
       "    <tr>\n",
       "      <th>Botswana</th>\n",
       "      <td>Africa</td>\n",
       "      <td>851.241141</td>\n",
       "      <td>918.232535</td>\n",
       "      <td>983.653976</td>\n",
       "      <td>1214.709294</td>\n",
       "      <td>2263.611114</td>\n",
       "      <td>3214.857818</td>\n",
       "      <td>4551.142150</td>\n",
       "      <td>6205.883850</td>\n",
       "      <td>7954.111645</td>\n",
       "      <td>...</td>\n",
       "      <td>512764.0</td>\n",
       "      <td>553541.0</td>\n",
       "      <td>619351.0</td>\n",
       "      <td>781472.0</td>\n",
       "      <td>970347.0</td>\n",
       "      <td>1151184.0</td>\n",
       "      <td>1342614.0</td>\n",
       "      <td>1536536.0</td>\n",
       "      <td>1630347</td>\n",
       "      <td>1639131</td>\n",
       "    </tr>\n",
       "    <tr>\n",
       "      <th>Burkina Faso</th>\n",
       "      <td>Africa</td>\n",
       "      <td>543.255241</td>\n",
       "      <td>617.183465</td>\n",
       "      <td>722.512021</td>\n",
       "      <td>794.826560</td>\n",
       "      <td>854.735976</td>\n",
       "      <td>743.387037</td>\n",
       "      <td>807.198586</td>\n",
       "      <td>912.063142</td>\n",
       "      <td>931.752773</td>\n",
       "      <td>...</td>\n",
       "      <td>4919632.0</td>\n",
       "      <td>5127935.0</td>\n",
       "      <td>5433886.0</td>\n",
       "      <td>5889574.0</td>\n",
       "      <td>6634596.0</td>\n",
       "      <td>7586551.0</td>\n",
       "      <td>8878303.0</td>\n",
       "      <td>10352843.0</td>\n",
       "      <td>12251209</td>\n",
       "      <td>14326203</td>\n",
       "    </tr>\n",
       "  </tbody>\n",
       "</table>\n",
       "<p>5 rows × 37 columns</p>\n",
       "</div>"
      ],
      "text/plain": [
       "             continent  gdpPercap_1952  gdpPercap_1957  gdpPercap_1962  \\\n",
       "country                                                                  \n",
       "Algeria         Africa     2449.008185     3013.976023     2550.816880   \n",
       "Angola          Africa     3520.610273     3827.940465     4269.276742   \n",
       "Benin           Africa     1062.752200      959.601080      949.499064   \n",
       "Botswana        Africa      851.241141      918.232535      983.653976   \n",
       "Burkina Faso    Africa      543.255241      617.183465      722.512021   \n",
       "\n",
       "              gdpPercap_1967  gdpPercap_1972  gdpPercap_1977  gdpPercap_1982  \\\n",
       "country                                                                        \n",
       "Algeria          3246.991771     4182.663766     4910.416756     5745.160213   \n",
       "Angola           5522.776375     5473.288005     3008.647355     2756.953672   \n",
       "Benin            1035.831411     1085.796879     1029.161251     1277.897616   \n",
       "Botswana         1214.709294     2263.611114     3214.857818     4551.142150   \n",
       "Burkina Faso      794.826560      854.735976      743.387037      807.198586   \n",
       "\n",
       "              gdpPercap_1987  gdpPercap_1992  ...    pop_1962    pop_1967  \\\n",
       "country                                       ...                           \n",
       "Algeria          5681.358539     5023.216647  ...  11000948.0  12760499.0   \n",
       "Angola           2430.208311     2627.845685  ...   4826015.0   5247469.0   \n",
       "Benin            1225.856010     1191.207681  ...   2151895.0   2427334.0   \n",
       "Botswana         6205.883850     7954.111645  ...    512764.0    553541.0   \n",
       "Burkina Faso      912.063142      931.752773  ...   4919632.0   5127935.0   \n",
       "\n",
       "                pop_1972    pop_1977    pop_1982    pop_1987    pop_1992  \\\n",
       "country                                                                    \n",
       "Algeria       14760787.0  17152804.0  20033753.0  23254956.0  26298373.0   \n",
       "Angola         5894858.0   6162675.0   7016384.0   7874230.0   8735988.0   \n",
       "Benin          2761407.0   3168267.0   3641603.0   4243788.0   4981671.0   \n",
       "Botswana        619351.0    781472.0    970347.0   1151184.0   1342614.0   \n",
       "Burkina Faso   5433886.0   5889574.0   6634596.0   7586551.0   8878303.0   \n",
       "\n",
       "                pop_1997  pop_2002  pop_2007  \n",
       "country                                       \n",
       "Algeria       29072015.0  31287142  33333216  \n",
       "Angola         9875024.0  10866106  12420476  \n",
       "Benin          6066080.0   7026113   8078314  \n",
       "Botswana       1536536.0   1630347   1639131  \n",
       "Burkina Faso  10352843.0  12251209  14326203  \n",
       "\n",
       "[5 rows x 37 columns]"
      ]
     },
     "execution_count": 9,
     "metadata": {},
     "output_type": "execute_result"
    }
   ],
   "source": [
    "data_all.head(5)"
   ]
  },
  {
   "cell_type": "code",
   "execution_count": 11,
   "id": "3b953b88-265a-4684-920f-a0b12d5457d5",
   "metadata": {},
   "outputs": [
    {
     "data": {
      "text/plain": [
       "<AxesSubplot:xlabel='gdpPercap_2007', ylabel='lifeExp_2007'>"
      ]
     },
     "execution_count": 11,
     "metadata": {},
     "output_type": "execute_result"
    },
    {
     "data": {
      "image/png": "[encoded data removed]",
      "text/plain": [
       "<Figure size 432x288 with 1 Axes>"
      ]
     },
     "metadata": {
      "needs_background": "light"
     },
     "output_type": "display_data"
    }
   ],
   "source": [
    "data_all.plot(kind=\"scatter\", x=\"gdpPercap_2007\", y=\"lifeExp_2007\", s=data_all[\"pop_2007\"]/1000000)"
   ]
  },
  {
   "cell_type": "markdown",
   "id": "6125f669-3834-42b0-b57b-91aac4642bb6",
   "metadata": {},
   "source": [
    "# Looping Over Data Sets"
   ]
  },
  {
   "cell_type": "code",
   "execution_count": 15,
   "id": "e6edcc1f-db96-4c49-bf03-9845c69e7293",
   "metadata": {},
   "outputs": [
    {
     "name": "stdout",
     "output_type": "stream",
     "text": [
      "data/gapminder_gdp_africa.csv\n",
      "gdpPercap_1952    298.846212\n",
      "gdpPercap_1957    335.997115\n",
      "gdpPercap_1962    355.203227\n",
      "gdpPercap_1967    412.977514\n",
      "gdpPercap_1972    464.099504\n",
      "gdpPercap_1977    502.319733\n",
      "gdpPercap_1982    462.211415\n",
      "gdpPercap_1987    389.876185\n",
      "gdpPercap_1992    410.896824\n",
      "gdpPercap_1997    312.188423\n",
      "gdpPercap_2002    241.165876\n",
      "gdpPercap_2007    277.551859\n",
      "dtype: float64\n",
      "data/gapminder_gdp_americas.csv\n",
      "continent            Americas\n",
      "gdpPercap_1952    1397.717137\n",
      "gdpPercap_1957    1544.402995\n",
      "gdpPercap_1962    1662.137359\n",
      "gdpPercap_1967    1452.057666\n",
      "gdpPercap_1972    1654.456946\n",
      "gdpPercap_1977    1874.298931\n",
      "gdpPercap_1982    2011.159549\n",
      "gdpPercap_1987    1823.015995\n",
      "gdpPercap_1992    1456.309517\n",
      "gdpPercap_1997    1341.726931\n",
      "gdpPercap_2002    1270.364932\n",
      "gdpPercap_2007    1201.637154\n",
      "dtype: object\n"
     ]
    }
   ],
   "source": [
    "for filename in [\"data/gapminder_gdp_africa.csv\", \"data/gapminder_gdp_americas.csv\"]:\n",
    "    data = pd.read_csv(filename, index_col=\"country\")\n",
    "    print(filename)\n",
    "    print(data.min())"
   ]
  },
  {
   "cell_type": "code",
   "execution_count": 16,
   "id": "d8ef4df3-b64b-4bb4-a201-fed0ffc9d487",
   "metadata": {},
   "outputs": [],
   "source": [
    "import glob "
   ]
  },
  {
   "cell_type": "markdown",
   "id": "68bf5948-cf30-47cf-bb7d-e20a23d94c1d",
   "metadata": {},
   "source": [
    "`*` match zero or more characters\n",
    "\n",
    "`?` match exactly one character"
   ]
  },
  {
   "cell_type": "code",
   "execution_count": 17,
   "id": "e4e2e704-db11-4e75-a3ad-70b81cb7e528",
   "metadata": {},
   "outputs": [
    {
     "data": {
      "text/plain": [
       "['data/gapminder_gdp_americas.csv',\n",
       " 'data/gapminder_gdp_europe.csv',\n",
       " 'data/gapminder_gdp_oceania.csv',\n",
       " 'data/gapminder_gdp_africa.csv',\n",
       " 'data/gapminder_gdp_asia.csv',\n",
       " 'data/gapminder_all.csv']"
      ]
     },
     "execution_count": 17,
     "metadata": {},
     "output_type": "execute_result"
    }
   ],
   "source": [
    "glob.glob(\"data/*.csv\")"
   ]
  },
  {
   "cell_type": "code",
   "execution_count": 18,
   "id": "437a389a-8fab-4735-8811-ac5fa121b5b6",
   "metadata": {},
   "outputs": [
    {
     "data": {
      "text/plain": [
       "[]"
      ]
     },
     "execution_count": 18,
     "metadata": {},
     "output_type": "execute_result"
    }
   ],
   "source": [
    "glob.glob(\"data/*.pdb\")"
   ]
  },
  {
   "cell_type": "code",
   "execution_count": 19,
   "id": "59da56b0-ede4-4b03-9d18-5f718aa89c14",
   "metadata": {},
   "outputs": [
    {
     "data": {
      "text/plain": [
       "['data/gapminder_gdp_americas.csv', 'data/gapminder_gdp_asia.csv']"
      ]
     },
     "execution_count": 19,
     "metadata": {},
     "output_type": "execute_result"
    }
   ],
   "source": [
    "glob.glob(\"data/*as*.csv\")"
   ]
  },
  {
   "cell_type": "code",
   "execution_count": 20,
   "id": "75c97d4c-0b58-4e87-80eb-6a9f15af0124",
   "metadata": {},
   "outputs": [
    {
     "data": {
      "text/plain": [
       "['data/gapminder_all.csv']"
      ]
     },
     "execution_count": 20,
     "metadata": {},
     "output_type": "execute_result"
    }
   ],
   "source": [
    "glob.glob(\"data/gapminder_?ll.csv\")"
   ]
  },
  {
   "cell_type": "code",
   "execution_count": 22,
   "id": "174ad91c-505c-49dd-88f7-52d6ad01df6f",
   "metadata": {},
   "outputs": [
    {
     "name": "stdout",
     "output_type": "stream",
     "text": [
      "data/gapminder_gdp_americas.csv 1397.717137\n",
      "data/gapminder_gdp_europe.csv 973.5331948\n",
      "data/gapminder_gdp_oceania.csv 10039.59564\n",
      "data/gapminder_gdp_africa.csv 298.8462121\n",
      "data/gapminder_gdp_asia.csv 331.0\n"
     ]
    }
   ],
   "source": [
    "for filename in glob.glob(\"data/gapminder_gdp*.csv\"):\n",
    "    data = pd.read_csv(filename)\n",
    "    print(filename, data[\"gdpPercap_1952\"].min())    "
   ]
  },
  {
   "cell_type": "code",
   "execution_count": 26,
   "id": "9e06e7fc-1a70-4008-bf53-0c9ed8b9edb2",
   "metadata": {},
   "outputs": [
    {
     "data": {
      "text/plain": [
       "33"
      ]
     },
     "execution_count": 26,
     "metadata": {},
     "output_type": "execute_result"
    }
   ],
   "source": [
    "data.shape[0]"
   ]
  },
  {
   "cell_type": "code",
   "execution_count": 29,
   "id": "65c56f4d-6914-4022-881b-372041358963",
   "metadata": {},
   "outputs": [
    {
     "name": "stdout",
     "output_type": "stream",
     "text": [
      "smallest file has 2 records\n"
     ]
    }
   ],
   "source": [
    "import glob\n",
    "import pandas as pd\n",
    "fewest = float(\"Inf\")\n",
    "for filename in glob.glob('data/*.csv'):\n",
    "    dataframe = pd.read_csv(filename)\n",
    "    fewest = min(fewest, dataframe.shape[0])\n",
    "print('smallest file has', fewest, 'records')"
   ]
  },
  {
   "cell_type": "markdown",
   "id": "5d111502-3ff4-4e24-be15-a4c81ba701a7",
   "metadata": {},
   "source": [
    "## Detour: File Paths"
   ]
  },
  {
   "cell_type": "code",
   "execution_count": 31,
   "id": "88d82215-af8f-470a-a2a7-89ef538cb6c2",
   "metadata": {},
   "outputs": [
    {
     "name": "stdout",
     "output_type": "stream",
     "text": [
      "data\n",
      "gapminder_gdp_africa\n",
      ".csv\n"
     ]
    }
   ],
   "source": [
    "from pathlib import Path\n",
    "\n",
    "p = Path(\"data/gapminder_gdp_africa.csv\")\n",
    "print(p.parent)\n",
    "print(p.stem)\n",
    "print(p.suffix)"
   ]
  },
  {
   "cell_type": "code",
   "execution_count": 33,
   "id": "9e309a83-bbdf-426f-9c25-941de66e1789",
   "metadata": {},
   "outputs": [
    {
     "name": "stdout",
     "output_type": "stream",
     "text": [
      "False\n"
     ]
    }
   ],
   "source": [
    "print(p.is_dir())"
   ]
  },
  {
   "cell_type": "markdown",
   "id": "063ed696-2c00-4f2d-9457-6a4cf08e3485",
   "metadata": {},
   "source": [
    "# Break until 10:05 "
   ]
  },
  {
   "cell_type": "markdown",
   "id": "bc403dca-9402-45f1-8524-d71c8b3f097f",
   "metadata": {},
   "source": [
    "# Writing Functions"
   ]
  },
  {
   "cell_type": "code",
   "execution_count": 34,
   "id": "d9c9ca34-534b-4361-9acc-61ccbde068ff",
   "metadata": {},
   "outputs": [],
   "source": [
    "def print_greeting():\n",
    "    print(\"Hello World!\") \n"
   ]
  },
  {
   "cell_type": "code",
   "execution_count": 35,
   "id": "249ada48-c943-4039-baa9-d4bc07d6a2f1",
   "metadata": {},
   "outputs": [
    {
     "name": "stdout",
     "output_type": "stream",
     "text": [
      "Hello World!\n"
     ]
    }
   ],
   "source": [
    "print_greeting()"
   ]
  },
  {
   "cell_type": "code",
   "execution_count": 37,
   "id": "fb496a40-c095-4537-91d2-bd8767bffd75",
   "metadata": {},
   "outputs": [],
   "source": [
    "def print_date(year, month, day):\n",
    "    joined = str(year) + \"/\" + str(month) + \"/\" + str(day)\n",
    "    print(joined)"
   ]
  },
  {
   "cell_type": "code",
   "execution_count": 38,
   "id": "7d58a190-3bd8-4657-b120-0eb567dfd957",
   "metadata": {},
   "outputs": [
    {
     "name": "stdout",
     "output_type": "stream",
     "text": [
      "2021/9/23\n"
     ]
    }
   ],
   "source": [
    "print_date(2021, 9, 23)"
   ]
  },
  {
   "cell_type": "code",
   "execution_count": 39,
   "id": "8843d537-e5ba-4622-924f-a7163fddcca9",
   "metadata": {},
   "outputs": [
    {
     "name": "stdout",
     "output_type": "stream",
     "text": [
      "2021/9/23\n"
     ]
    }
   ],
   "source": [
    "print_date(month=9, day=23, year=2021)"
   ]
  },
  {
   "cell_type": "code",
   "execution_count": 41,
   "id": "21d48358-43cd-4add-aa48-4c70a990ffc7",
   "metadata": {},
   "outputs": [
    {
     "name": "stdout",
     "output_type": "stream",
     "text": [
      "2021/9/23\n"
     ]
    }
   ],
   "source": [
    "print_date(2021, day=23, month=9)"
   ]
  },
  {
   "cell_type": "code",
   "execution_count": 42,
   "id": "27f0cdd6-4561-4c75-a146-aee20f659500",
   "metadata": {},
   "outputs": [
    {
     "ename": "SyntaxError",
     "evalue": "positional argument follows keyword argument (2351185897.py, line 1)",
     "output_type": "error",
     "traceback": [
      "\u001b[0;36m  File \u001b[0;32m\"/tmp/ipykernel_1440445/2351185897.py\"\u001b[0;36m, line \u001b[0;32m1\u001b[0m\n\u001b[0;31m    print_date(day=23, 2021, month=9)\u001b[0m\n\u001b[0m                       ^\u001b[0m\n\u001b[0;31mSyntaxError\u001b[0m\u001b[0;31m:\u001b[0m positional argument follows keyword argument\n"
     ]
    }
   ],
   "source": [
    "print_date(day=23, 2021, month=9)"
   ]
  },
  {
   "cell_type": "code",
   "execution_count": 43,
   "id": "2a35c2a8-c592-43c2-924c-36d4e4f09f97",
   "metadata": {},
   "outputs": [
    {
     "name": "stdout",
     "output_type": "stream",
     "text": [
      "calling <function report at 0x7f8f7d6db820> 22.5\n"
     ]
    }
   ],
   "source": [
    "def report(pressure):\n",
    "    print(\"pressure is:\", pressure)\n",
    "\n",
    "print(\"calling\", report, 22.5)"
   ]
  },
  {
   "cell_type": "code",
   "execution_count": 44,
   "id": "d987ed44-2aec-4058-b882-679c828c9901",
   "metadata": {},
   "outputs": [
    {
     "name": "stdout",
     "output_type": "stream",
     "text": [
      "pressure is: 22.5\n",
      "calling None\n"
     ]
    }
   ],
   "source": [
    "print(\"calling\", report(22.5))"
   ]
  },
  {
   "cell_type": "code",
   "execution_count": 45,
   "id": "82d294a1-043e-499e-8667-2921ae091c79",
   "metadata": {},
   "outputs": [
    {
     "name": "stdout",
     "output_type": "stream",
     "text": [
      "pressure is: 22.5\n",
      "None\n"
     ]
    }
   ],
   "source": [
    "result = report(22.5)\n",
    "print(result)"
   ]
  },
  {
   "cell_type": "code",
   "execution_count": 46,
   "id": "cd3c92be-f3c6-49e4-8d9f-dfb0bb57ec78",
   "metadata": {},
   "outputs": [
    {
     "name": "stdout",
     "output_type": "stream",
     "text": [
      "calling\n",
      "pressure is: 22.5\n"
     ]
    }
   ],
   "source": [
    "print(\"calling\")\n",
    "report(22.5)"
   ]
  },
  {
   "cell_type": "code",
   "execution_count": 47,
   "id": "0260e06c-d881-4fb5-91b5-c703b2d10280",
   "metadata": {},
   "outputs": [],
   "source": [
    "def average(values):\n",
    "    if len(values) == 0:\n",
    "        return None\n",
    "    return sum(values)/len(values)"
   ]
  },
  {
   "cell_type": "code",
   "execution_count": 48,
   "id": "340eb917-ef3f-4bb0-882b-bde47e2d3cb8",
   "metadata": {},
   "outputs": [
    {
     "name": "stdout",
     "output_type": "stream",
     "text": [
      "average 2.0\n"
     ]
    }
   ],
   "source": [
    "a = average([1,2,3])\n",
    "print(\"average\", a)"
   ]
  },
  {
   "cell_type": "code",
   "execution_count": 49,
   "id": "c5f0dc72-c4a3-4196-9bfb-5f1929f5391c",
   "metadata": {},
   "outputs": [
    {
     "name": "stdout",
     "output_type": "stream",
     "text": [
      "empty average None\n"
     ]
    }
   ],
   "source": [
    "print(\"empty average\", average([]))"
   ]
  },
  {
   "cell_type": "code",
   "execution_count": 50,
   "id": "802f7b43-7aad-4302-a7ee-945b00022302",
   "metadata": {},
   "outputs": [
    {
     "ename": "TypeError",
     "evalue": "average() missing 1 required positional argument: 'values'",
     "output_type": "error",
     "traceback": [
      "\u001b[0;31m---------------------------------------------------------------------------\u001b[0m",
      "\u001b[0;31mTypeError\u001b[0m                                 Traceback (most recent call last)",
      "\u001b[0;32m/tmp/ipykernel_1440445/1817697096.py\u001b[0m in \u001b[0;36m<module>\u001b[0;34m\u001b[0m\n\u001b[0;32m----> 1\u001b[0;31m \u001b[0maverage\u001b[0m\u001b[0;34m(\u001b[0m\u001b[0;34m)\u001b[0m\u001b[0;34m\u001b[0m\u001b[0;34m\u001b[0m\u001b[0m\n\u001b[0m",
      "\u001b[0;31mTypeError\u001b[0m: average() missing 1 required positional argument: 'values'"
     ]
    }
   ],
   "source": [
    "average()"
   ]
  },
  {
   "cell_type": "markdown",
   "id": "fb5e722a-7d90-4458-8cb8-c2bdc66dc750",
   "metadata": {},
   "source": [
    "# Exercise until 10:40\n",
    "https://swcarpentry.github.io/python-novice-gapminder/16-writing-functions/index.html#encapsulation-of-an-ifprint-block \n",
    "\n",
    "**Put up a checkmark when you're done :)**"
   ]
  },
  {
   "cell_type": "code",
   "execution_count": 52,
   "id": "29eb4877-53b4-4ae9-a691-d7840f23f34b",
   "metadata": {},
   "outputs": [
    {
     "name": "stdout",
     "output_type": "stream",
     "text": [
      "57.79353875752784\n",
      "medium\n",
      "78.45946470425419\n",
      "large\n",
      "84.25684678151524\n",
      "large\n",
      "86.13551119294704\n",
      "jumbo\n",
      "58.94116816710452\n",
      "medium\n",
      "73.56412864550049\n",
      "large\n",
      "56.171565409794795\n",
      "medium\n",
      "79.8105445446192\n",
      "large\n",
      "57.10030781033591\n",
      "medium\n",
      "80.19152339124913\n",
      "large\n"
     ]
    }
   ],
   "source": [
    "import random\n",
    "for i in range(10):\n",
    "\n",
    "    # simulating the mass of a chicken egg\n",
    "    # the (random) mass will be 70 +/- 20 grams\n",
    "    mass = 70 + 20.0 * (2.0 * random.random() - 1.0)\n",
    "\n",
    "    print(mass)\n",
    "   \n",
    "    # egg sizing machinery prints a label\n",
    "    if mass >= 85:\n",
    "       print(\"jumbo\")\n",
    "    elif mass >= 70:\n",
    "       print(\"large\")\n",
    "    elif mass < 70 and mass >= 55:\n",
    "       print(\"medium\")\n",
    "    else:\n",
    "       print(\"small\")"
   ]
  },
  {
   "cell_type": "code",
   "execution_count": 54,
   "id": "7779d8d1-2e0c-4451-916e-345678da4dab",
   "metadata": {},
   "outputs": [],
   "source": [
    "def get_egg_label(mass):\n",
    "    if mass >= 85:\n",
    "        return \"jumbo\"\n",
    "    elif mass >= 70:\n",
    "        return \"large\"\n",
    "    elif mass < 70 and mass >= 55:\n",
    "        return \"medium\"\n",
    "    else:\n",
    "        return \"small\""
   ]
  },
  {
   "cell_type": "code",
   "execution_count": 56,
   "id": "0403f0b2-4de6-4125-999a-d64a1504021b",
   "metadata": {},
   "outputs": [
    {
     "name": "stdout",
     "output_type": "stream",
     "text": [
      "54.23416366603815 small\n",
      "89.32405407191752 jumbo\n",
      "72.15070512340489 large\n",
      "84.02960894104643 large\n",
      "59.050897649364 medium\n",
      "81.4177146668482 large\n",
      "57.9614548641521 medium\n",
      "60.578138195805664 medium\n",
      "64.13048367415226 medium\n",
      "83.734631071799 large\n"
     ]
    }
   ],
   "source": [
    "# revised version\n",
    "import random\n",
    "for i in range(10):\n",
    "\n",
    "    # simulating the mass of a chicken egg\n",
    "    # the (random) mass will be 70 +/- 20 grams\n",
    "    hello = 70 + 20.0 * (2.0 * random.random() - 1.0)\n",
    "\n",
    "    print(hello, get_egg_label(hello))    "
   ]
  },
  {
   "cell_type": "markdown",
   "id": "1bbbe862-d76a-4fdb-acc3-c24a5cc8e96a",
   "metadata": {},
   "source": [
    "# Break until 11:00"
   ]
  },
  {
   "cell_type": "markdown",
   "id": "bfd287c7-32e3-489a-9550-9dd5747b5488",
   "metadata": {},
   "source": [
    "# Variable Scope"
   ]
  },
  {
   "cell_type": "code",
   "execution_count": 57,
   "id": "4c4f4986-6e8f-44c4-a6d7-766f1e60ad85",
   "metadata": {},
   "outputs": [],
   "source": [
    "pressure = 103.9 # global variable, visible everywhere\n",
    "\n",
    "def adjust(t):\n",
    "    temperature = t * 1.43 / pressure # temperature -> local variable, only visible inside function\n",
    "    return temperature"
   ]
  },
  {
   "cell_type": "code",
   "execution_count": 58,
   "id": "2ec60893-213f-4256-b53c-8e59a25fe0d5",
   "metadata": {},
   "outputs": [
    {
     "name": "stdout",
     "output_type": "stream",
     "text": [
      "adjusted 0.01238691049085659\n"
     ]
    }
   ],
   "source": [
    "print(\"adjusted\", adjust(0.9))"
   ]
  },
  {
   "cell_type": "code",
   "execution_count": 59,
   "id": "7118d747-38c1-4e97-b008-9b975ec74882",
   "metadata": {},
   "outputs": [
    {
     "ename": "NameError",
     "evalue": "name 'temperature' is not defined",
     "output_type": "error",
     "traceback": [
      "\u001b[0;31m---------------------------------------------------------------------------\u001b[0m",
      "\u001b[0;31mNameError\u001b[0m                                 Traceback (most recent call last)",
      "\u001b[0;32m/tmp/ipykernel_1440445/822624440.py\u001b[0m in \u001b[0;36m<module>\u001b[0;34m\u001b[0m\n\u001b[0;32m----> 1\u001b[0;31m \u001b[0mprint\u001b[0m\u001b[0;34m(\u001b[0m\u001b[0;34m\"temperature after adjust\"\u001b[0m\u001b[0;34m,\u001b[0m \u001b[0mtemperature\u001b[0m\u001b[0;34m)\u001b[0m\u001b[0;34m\u001b[0m\u001b[0;34m\u001b[0m\u001b[0m\n\u001b[0m",
      "\u001b[0;31mNameError\u001b[0m: name 'temperature' is not defined"
     ]
    }
   ],
   "source": [
    "print(\"temperature after adjust\", temperature)"
   ]
  },
  {
   "cell_type": "code",
   "execution_count": 60,
   "id": "7b3236f3-701d-4f9c-a469-c85960e2ab6b",
   "metadata": {},
   "outputs": [
    {
     "name": "stdout",
     "output_type": "stream",
     "text": [
      "0.01238691049085659\n"
     ]
    }
   ],
   "source": [
    "a = adjust(0.9)\n",
    "print(a)"
   ]
  },
  {
   "cell_type": "code",
   "execution_count": 61,
   "id": "08b3f198-4baf-4f96-9c67-51171810987b",
   "metadata": {},
   "outputs": [],
   "source": [
    "limit = 100\n",
    "def clip(value):\n",
    "    # if value is negative: return 0.0\n",
    "    # if value is greater than 100: return 100\n",
    "    return min(max(0.0, value), 100)"
   ]
  },
  {
   "cell_type": "code",
   "execution_count": 62,
   "id": "78386dae-f750-4924-aef8-1bf183392481",
   "metadata": {},
   "outputs": [
    {
     "name": "stdout",
     "output_type": "stream",
     "text": [
      "0.0\n"
     ]
    }
   ],
   "source": [
    "inputValue = -22.5\n",
    "print(clip(inputValue))"
   ]
  },
  {
   "cell_type": "code",
   "execution_count": 63,
   "id": "6a4cb205-2b3f-4c0b-86f7-8439fb7390f1",
   "metadata": {},
   "outputs": [
    {
     "name": "stdout",
     "output_type": "stream",
     "text": [
      "-22.5\n"
     ]
    }
   ],
   "source": [
    "print(inputValue)"
   ]
  },
  {
   "cell_type": "code",
   "execution_count": 67,
   "id": "9f47204a-d9e9-4e56-ac70-46ec0df54e83",
   "metadata": {},
   "outputs": [],
   "source": [
    "limit = 100\n",
    "def clip(value):\n",
    "    # if value is negative: return 0.0\n",
    "    # if value is greater than 100: return 100\n",
    "    temp1 = max(0.0, value)\n",
    "    print(\"temp 1\", temp1)\n",
    "    temp2 = min(temp1, 100)\n",
    "    print(\"temp2\", temp2)\n",
    "    return temp2"
   ]
  },
  {
   "cell_type": "code",
   "execution_count": 68,
   "id": "4678f853-1023-417d-900a-a2fffaa9121b",
   "metadata": {},
   "outputs": [
    {
     "name": "stdout",
     "output_type": "stream",
     "text": [
      "temp 1 0.0\n",
      "temp2 0.0\n",
      "output 0.0\n"
     ]
    }
   ],
   "source": [
    "print(\"output\", clip(inputValue))"
   ]
  },
  {
   "cell_type": "code",
   "execution_count": 69,
   "id": "e5f7c2e3-dcff-42e7-9698-1859f0d441c7",
   "metadata": {},
   "outputs": [
    {
     "name": "stdout",
     "output_type": "stream",
     "text": [
      "temp 1 120\n",
      "temp2 100\n",
      "100\n"
     ]
    }
   ],
   "source": [
    "print(clip(120))"
   ]
  },
  {
   "cell_type": "markdown",
   "id": "4dc7662a-e3ab-432b-8bd5-e172d539b405",
   "metadata": {},
   "source": [
    "# Programming Style"
   ]
  },
  {
   "cell_type": "markdown",
   "id": "d3b169ae-0f35-4ceb-a5cb-78f1365a9229",
   "metadata": {},
   "source": [
    "**Code is read much more than it is written!**"
   ]
  },
  {
   "cell_type": "code",
   "execution_count": 72,
   "id": "c453b290-3dfa-471f-a04e-e9352718453b",
   "metadata": {},
   "outputs": [],
   "source": [
    "def calc_bulk_density(mass, volume):\n",
    "    \"\"\"Returns dry bulk density = powder mass/powder \n",
    "    volume.\n",
    "    volume should be greater than 0!\n",
    "    \"\"\"\n",
    "    if volume < 0:\n",
    "        return None\n",
    "    return mass/volume"
   ]
  },
  {
   "cell_type": "code",
   "execution_count": 73,
   "id": "ce7ea6d2-8f6f-4ae1-a1d1-946786a8d4bd",
   "metadata": {},
   "outputs": [
    {
     "name": "stdout",
     "output_type": "stream",
     "text": [
      "Help on function calc_bulk_density in module __main__:\n",
      "\n",
      "calc_bulk_density(mass, volume)\n",
      "    Returns dry bulk density = powder mass/powder \n",
      "    volume.\n",
      "    volume should be greater than 0!\n",
      "\n"
     ]
    }
   ],
   "source": [
    "help(calc_bulk_density)"
   ]
  },
  {
   "cell_type": "code",
   "execution_count": 78,
   "id": "aaa8f8c1-7d66-4d7c-bb0d-9113e29c8be5",
   "metadata": {},
   "outputs": [
    {
     "ename": "SyntaxError",
     "evalue": "invalid syntax (2466806074.py, line 6)",
     "output_type": "error",
     "traceback": [
      "\u001b[0;36m  File \u001b[0;32m\"/tmp/ipykernel_1440445/2466806074.py\"\u001b[0;36m, line \u001b[0;32m6\u001b[0m\n\u001b[0;31m    assert volume = 5\u001b[0m\n\u001b[0m                  ^\u001b[0m\n\u001b[0;31mSyntaxError\u001b[0m\u001b[0;31m:\u001b[0m invalid syntax\n"
     ]
    }
   ],
   "source": [
    "def calc_bulk_density(mass, volume):\n",
    "    \"\"\"Returns dry bulk density = powder mass/powder \n",
    "    volume.\n",
    "    volume should be greater than 0!\n",
    "    \"\"\"\n",
    "    assert volume > 0\n",
    "    return mass/volume"
   ]
  },
  {
   "cell_type": "code",
   "execution_count": 76,
   "id": "8c540c63-fa17-41b8-a2a0-893067a892d2",
   "metadata": {},
   "outputs": [
    {
     "data": {
      "text/plain": [
       "0.5"
      ]
     },
     "execution_count": 76,
     "metadata": {},
     "output_type": "execute_result"
    }
   ],
   "source": [
    "calc_bulk_density(5, 10)"
   ]
  },
  {
   "cell_type": "code",
   "execution_count": 77,
   "id": "0720ee03-3b9b-444d-81e1-aac28cdfe6ff",
   "metadata": {},
   "outputs": [
    {
     "ename": "AssertionError",
     "evalue": "",
     "output_type": "error",
     "traceback": [
      "\u001b[0;31m---------------------------------------------------------------------------\u001b[0m",
      "\u001b[0;31mAssertionError\u001b[0m                            Traceback (most recent call last)",
      "\u001b[0;32m/tmp/ipykernel_1440445/987060554.py\u001b[0m in \u001b[0;36m<module>\u001b[0;34m\u001b[0m\n\u001b[0;32m----> 1\u001b[0;31m \u001b[0mcalc_bulk_density\u001b[0m\u001b[0;34m(\u001b[0m\u001b[0;36m5\u001b[0m\u001b[0;34m,\u001b[0m\u001b[0;34m-\u001b[0m\u001b[0;36m10\u001b[0m\u001b[0;34m)\u001b[0m\u001b[0;34m\u001b[0m\u001b[0;34m\u001b[0m\u001b[0m\n\u001b[0m",
      "\u001b[0;32m/tmp/ipykernel_1440445/3053531325.py\u001b[0m in \u001b[0;36mcalc_bulk_density\u001b[0;34m(mass, volume)\u001b[0m\n\u001b[1;32m      4\u001b[0m     \u001b[0mvolume\u001b[0m \u001b[0mshould\u001b[0m \u001b[0mbe\u001b[0m \u001b[0mgreater\u001b[0m \u001b[0mthan\u001b[0m \u001b[0;36m0\u001b[0m\u001b[0;31m!\u001b[0m\u001b[0;34m\u001b[0m\u001b[0;34m\u001b[0m\u001b[0m\n\u001b[1;32m      5\u001b[0m     \"\"\"\n\u001b[0;32m----> 6\u001b[0;31m     \u001b[0;32massert\u001b[0m \u001b[0mvolume\u001b[0m \u001b[0;34m>\u001b[0m \u001b[0;36m0\u001b[0m\u001b[0;34m\u001b[0m\u001b[0;34m\u001b[0m\u001b[0m\n\u001b[0m\u001b[1;32m      7\u001b[0m     \u001b[0;32mreturn\u001b[0m \u001b[0mmass\u001b[0m\u001b[0;34m/\u001b[0m\u001b[0mvolume\u001b[0m\u001b[0;34m\u001b[0m\u001b[0;34m\u001b[0m\u001b[0m\n",
      "\u001b[0;31mAssertionError\u001b[0m: "
     ]
    }
   ],
   "source": [
    "calc_bulk_density(5,-10)"
   ]
  },
  {
   "cell_type": "markdown",
   "id": "0df1043d-fb9b-4972-92e2-c3f24d0d7f32",
   "metadata": {},
   "source": [
    "# Exercise until 11:51\n",
    "https://swcarpentry.github.io/python-novice-gapminder/18-style/index.html#clean-up-this-code \n",
    "\n",
    "**If you are looking for a partner to discuss, stop by breakout room 1**"
   ]
  },
  {
   "cell_type": "code",
   "execution_count": null,
   "id": "e829e4cc-05d3-4dd2-b1e1-864b1b4a3344",
   "metadata": {},
   "outputs": [
    {
     "name": "stdout",
     "output_type": "stream",
     "text": [
      "et cetera\n",
      "*****-***\n"
     ]
    }
   ],
   "source": [
    "def string_machine(input_string, iterations):\n",
    "    \"\"\"\n",
    "    Takes input_string and generates a new string with -'s and *'s\n",
    "    corresponding to characters that have identical adjacent characters\n",
    "    or not, respectively.  Iterates through this procedure with the resultant\n",
    "    strings for the supplied number of iterations.\n",
    "    \"\"\"\n",
    "    print(input_string)\n",
    "    input_string_length = len(input_string)\n",
    "    old = input_string\n",
    "    for i in range(iterations):\n",
    "        new = ''\n",
    "        # iterate through characters in previous string\n",
    "        for j in range(input_string_length):\n",
    "            left = j-1\n",
    "            right = (j+1) % input_string_length  # ensure right index wraps around\n",
    "            if old[left] == old[right]:\n",
    "                new += '-'\n",
    "            else:\n",
    "                new += '*'\n",
    "        print(new)\n",
    "        # store new string as old\n",
    "        old = new     \n",
    "\n",
    "string_machine('et cetera', 10)\n",
    "\n"
   ]
  },
  {
   "cell_type": "code",
   "execution_count": 81,
   "id": "f278c986-1212-45d2-b61d-db08d9de9572",
   "metadata": {},
   "outputs": [
    {
     "name": "stdout",
     "output_type": "stream",
     "text": [
      "Help on built-in function join:\n",
      "\n",
      "join(iterable, /) method of builtins.str instance\n",
      "    Concatenate any number of strings.\n",
      "    \n",
      "    The string whose method is called is inserted in between each given string.\n",
      "    The result is returned as a new string.\n",
      "    \n",
      "    Example: '.'.join(['ab', 'pq', 'rs']) -> 'ab.pq.rs'\n",
      "\n"
     ]
    }
   ],
   "source": [
    "a = \"hi\"\n",
    "help(a.join)"
   ]
  },
  {
   "cell_type": "code",
   "execution_count": 82,
   "id": "146187e5-248a-45c5-acac-3bcebc0995db",
   "metadata": {},
   "outputs": [
    {
     "data": {
      "text/plain": [
       "'ab.pq.rs'"
      ]
     },
     "execution_count": 82,
     "metadata": {},
     "output_type": "execute_result"
    }
   ],
   "source": [
    "'.'.join(['ab', 'pq', 'rs'])"
   ]
  },
  {
   "cell_type": "code",
   "execution_count": 83,
   "id": "487aa841-e885-4c54-ba4e-163b060c3158",
   "metadata": {},
   "outputs": [
    {
     "name": "stdout",
     "output_type": "stream",
     "text": [
      "The Zen of Python, by Tim Peters\n",
      "\n",
      "Beautiful is better than ugly.\n",
      "Explicit is better than implicit.\n",
      "Simple is better than complex.\n",
      "Complex is better than complicated.\n",
      "Flat is better than nested.\n",
      "Sparse is better than dense.\n",
      "Readability counts.\n",
      "Special cases aren't special enough to break the rules.\n",
      "Although practicality beats purity.\n",
      "Errors should never pass silently.\n",
      "Unless explicitly silenced.\n",
      "In the face of ambiguity, refuse the temptation to guess.\n",
      "There should be one-- and preferably only one --obvious way to do it.\n",
      "Although that way may not be obvious at first unless you're Dutch.\n",
      "Now is better than never.\n",
      "Although never is often better than *right* now.\n",
      "If the implementation is hard to explain, it's a bad idea.\n",
      "If the implementation is easy to explain, it may be a good idea.\n",
      "Namespaces are one honking great idea -- let's do more of those!\n"
     ]
    }
   ],
   "source": [
    "import this"
   ]
  },
  {
   "cell_type": "code",
   "execution_count": 84,
   "id": "f6227428-a0d5-46a1-8b41-7caadee36a97",
   "metadata": {},
   "outputs": [
    {
     "name": "stdout",
     "output_type": "stream",
     "text": [
      "[0, 1, 2, 3, 4, 5, 6, 7, 8, 9, 10, 11, 12, 13, 14, 15, 16, 17, 18, 19, 20, 21, 22, 23, 24, 25, 26, 27, 28, 29, 30, 31, 32, 33, 34, 35, 36, 37, 38, 39, 40, 41, 42, 43, 44, 45, 46, 47, 48, 49, 50, 51, 52, 53, 54, 55, 56, 57, 58, 59, 60, 61, 62, 63, 64, 65, 66, 67, 68, 69, 70, 71, 72, 73, 74, 75, 76, 77, 78, 79, 80, 81, 82, 83, 84, 85, 86, 87, 88, 89, 90, 91, 92, 93, 94, 95, 96, 97, 98, 99, 100, 101, 102, 103, 104, 105, 106, 107, 108, 109, 110, 111, 112, 113, 114, 115, 116, 117, 118, 119, 120, 121, 122, 123, 124, 125, 126, 127, 128, 129, 130, 131, 132, 133, 134, 135, 136, 137, 138, 139, 140, 141, 142, 143, 144, 145, 146, 147, 148, 149, 150, 151, 152, 153, 154, 155, 156, 157, 158, 159, 160, 161, 162, 163, 164, 165, 166, 167, 168, 169, 170, 171, 172, 173, 174, 175, 176, 177, 178, 179, 180, 181, 182, 183, 184, 185, 186, 187, 188, 189, 190, 191, 192, 193, 194, 195, 196, 197, 198, 199, 200, 201, 202, 203, 204, 205, 206, 207, 208, 209, 210, 211, 212, 213, 214, 215, 216, 217, 218, 219, 220, 221, 222, 223, 224, 225, 226, 227, 228, 229, 230, 231, 232, 233, 234, 235, 236, 237, 238, 239, 240, 241, 242, 243, 244, 245, 246, 247, 248, 249, 250, 251, 252, 253, 254, 255, 256, 257, 258, 259, 260, 261, 262, 263, 264, 265, 266, 267, 268, 269, 270, 271, 272, 273, 274, 275, 276, 277, 278, 279, 280, 281, 282, 283, 284, 285, 286, 287, 288, 289, 290, 291, 292, 293, 294, 295, 296, 297, 298, 299, 300, 301, 302, 303, 304, 305, 306, 307, 308, 309, 310, 311, 312, 313, 314, 315, 316, 317, 318, 319, 320, 321, 322, 323, 324, 325, 326, 327, 328, 329, 330, 331, 332, 333, 334, 335, 336, 337, 338, 339, 340, 341, 342, 343, 344, 345, 346, 347, 348, 349, 350, 351, 352, 353, 354, 355, 356, 357, 358, 359, 360, 361, 362, 363, 364, 365, 366, 367, 368, 369, 370, 371, 372, 373, 374, 375, 376, 377, 378, 379, 380, 381, 382, 383, 384, 385, 386, 387, 388, 389, 390, 391, 392, 393, 394, 395, 396, 397, 398, 399, 400, 401, 402, 403, 404, 405, 406, 407, 408, 409, 410, 411, 412, 413, 414, 415, 416, 417, 418, 419, 420, 421, 422, 423, 424, 425, 426, 427, 428, 429, 430, 431, 432, 433, 434, 435, 436, 437, 438, 439, 440, 441, 442, 443, 444, 445, 446, 447, 448, 449, 450, 451, 452, 453, 454, 455, 456, 457, 458, 459, 460, 461, 462, 463, 464, 465, 466, 467, 468, 469, 470, 471, 472, 473, 474, 475, 476, 477, 478, 479, 480, 481, 482, 483, 484, 485, 486, 487, 488, 489, 490, 491, 492, 493, 494, 495, 496, 497, 498, 499]\n"
     ]
    }
   ],
   "source": [
    "many_values = list(range(500))\n",
    "print(many_values)"
   ]
  },
  {
   "cell_type": "code",
   "execution_count": 85,
   "id": "cfb4e4e2-1541-4c0a-bd81-0d1180792cb6",
   "metadata": {},
   "outputs": [],
   "source": [
    "import math"
   ]
  },
  {
   "cell_type": "code",
   "execution_count": 86,
   "id": "79c7230f-7a1b-411d-afa1-a78733ee6671",
   "metadata": {},
   "outputs": [],
   "source": [
    "results = []\n",
    "for value in many_values:\n",
    "    results.append(math.cos(value))"
   ]
  },
  {
   "cell_type": "code",
   "execution_count": 87,
   "id": "05678975-b348-4d5f-8e19-8d962cb04704",
   "metadata": {},
   "outputs": [
    {
     "name": "stdout",
     "output_type": "stream",
     "text": [
      "[1.0, 0.5403023058681398, -0.4161468365471424, -0.9899924966004454, -0.6536436208636119, 0.28366218546322625, 0.960170286650366, 0.7539022543433046, -0.14550003380861354, -0.9111302618846769, -0.8390715290764524, 0.004425697988050785, 0.8438539587324921, 0.9074467814501962, 0.1367372182078336, -0.7596879128588213, -0.9576594803233847, -0.27516333805159693, 0.6603167082440802, 0.9887046181866692, 0.40808206181339196, -0.5477292602242684, -0.9999608263946371, -0.5328330203333975, 0.424179007336997, 0.9912028118634736, 0.6469193223286404, -0.2921388087338362, -0.9626058663135666, -0.7480575296890003, 0.15425144988758405, 0.9147423578045313, 0.8342233605065102, -0.013276747223059479, -0.8485702747846052, -0.9036922050915067, -0.12796368962740468, 0.7654140519453434, 0.9550736440472949, 0.26664293235993725, -0.6669380616522619, -0.9873392775238264, -0.39998531498835127, 0.5551133015206257, 0.9998433086476912, 0.5253219888177297, -0.4321779448847783, -0.9923354691509287, -0.6401443394691997, 0.3005925437436371, 0.9649660284921133, 0.7421541968137826, -0.16299078079570548, -0.9182827862121189, -0.8293098328631502, 0.022126756261955736, 0.8532201077225842, 0.8998668269691937, 0.11918013544881928, -0.7710802229758452, -0.9524129804151563, -0.25810163593826746, 0.6735071623235862, 0.9858965815825497, 0.39185723042955, -0.562453851238172, -0.99964745596635, -0.5177697997895051, 0.4401430224960407, 0.9933903797222716, 0.6333192030862999, -0.3090227281660707, -0.9672505882738824, -0.7361927182273159, 0.17171734183077755, 0.9217512697247493, 0.8243313311075577, -0.03097503173121646, -0.8578030932449878, -0.8959709467909631, -0.11038724383904756, 0.7766859820216312, 0.9496776978825432, 0.24954011797333814, -0.6800234955873388, -0.9843766433940419, -0.38369844494974187, 0.569750334265312, 0.9993732836951247, 0.5101770449416689, -0.4480736161291701, -0.9943674609282015, -0.626444447910339, 0.31742870151970165, 0.9694593666699876, 0.7301735609948197, -0.18043044929108396, -0.9251475365964139, -0.8192882452914593, 0.0398208803931389, 0.8623188722876839, 0.8920048697881602, 0.10158570369662134, -0.7822308898871159, -0.9468680107512125, -0.24095904923620143, 0.6864865509069841, 0.9827795820412206, 0.3755095977670121, -0.577002178942952, -0.999020813314648, -0.5025443191453852, 0.4559691044442761, 0.9952666362171313, 0.6195206125592099, -0.3258098052199642, -0.9715921906288022, -0.7240971967004738, 0.1891294205289584, 0.9284713207390763, 0.8141809705265618, -0.04866360920015389, -0.8667670910519801, -0.8879689066918555, -0.09277620459766088, 0.7877145121442345, 0.9439841391523142, 0.23235910202965793, -0.6928958219201651, -0.9811055226493881, -0.3672913304546965, 0.5842088171092893, 0.9985900724399912, 0.4948722204034305, -0.4638288688518717, -0.9960878351411849, -0.6125482394960996, 0.33416538263076073, 0.9736488930495181, 0.717964101410472, -0.19781357400426822, -0.9317223617435201, -0.8090099069535975, 0.05750252534912421, 0.8711474010323434, 0.8838633737085002, 0.08395943674184847, -0.7931364191664784, -0.9410263090291437, -0.22374095013558368, 0.6992508064783751, 0.9793545963764285, 0.35904428689111606, -0.5913696841443247, -0.9980810948185003, -0.48716134980334147, 0.47165229356133864, 0.9968309933617175, 0.6055278749869898, -0.34249477911590703, -0.9756293127952373, -0.7117747556357236, 0.20648222933781113, 0.9349004048997503, 0.803775459710974, -0.06633693633562374, -0.875459459043705, -0.8796885924951523, -0.07513609089835323, 0.7984961861625556, 0.9379947521194415, 0.21510526876214117, -0.7055510066862999, -0.9775269404025313, -0.3507691132091307, 0.5984842190140996, 0.9974939203271522, 0.47941231147032193, -0.4794387656291727, -0.9974960526543551, -0.5984600690578581, 0.3507973420904214, 0.9775332947055968, 0.705529644294206, -0.21513470736462095, -0.9380052012169503, -0.7984780389030324, 0.07516615000819327, 0.879702927248347, 0.8754448901342752, 0.06630685835171127, -0.8037933932096717, -0.9348897059372352, -0.20645273449087873, 0.711795928940826, 0.9756226979194443, 0.3424664577455166, -0.6055518643146514, -0.9968285949694307, -0.47162571251991114, 0.4871876750070059, 0.9980829609135574, 0.591345375451585, -0.35907242107165305, -0.9793606896089245, -0.6992292566729736, 0.22377033018717848, 0.9410365074429887, 0.7931180595679168, -0.08398947462256867, -0.8838774731823718, -0.8711325991081119, -0.057472430847665464, 0.8090276252864301, 0.9317114137542325, 0.19778402522372224, -0.7179850839697136, -0.9736420181192547, -0.33413697099017103, 0.6125720663156844, 0.9960851708717215, 0.4638021630104179, -0.49489841458940237, -0.9985916721566993, -0.5841843515845697, 0.36731936773024515, 0.9811113543339269, 0.6928740863898232, -0.23238842122852268, -0.9439940860834779, -0.787695941645058, 0.09280621889587708, 0.8879827697817494, 0.8667520572726362, 0.048633500538969116, -0.8141984723053474, -0.9284601245807608, -0.18909982012986337, 0.7241179868699296, 0.9715850561826999, 0.32578130553514806, -0.6195442750039529, -0.9952637062792294, -0.4559422758951242, 0.5025703802614231, 0.9990221465276736, 0.5769775585030581, -0.3755375359409301, -0.982785151720906, -0.68646463135462, 0.24098830528525864, 0.9468777054203809, 0.7822121099422712, -0.10161569206079699, -0.892018495407942, -0.8623036078310824, -0.03979075993115771, 0.8193055291449822, 0.9251360931462582, 0.18040079959254857, -0.7301941571456378, -0.9694519732670104, -0.31740011602352985, 0.6264679441263539, 0.9943642655514137, 0.44804666697426215, -0.510202970945957, -0.9993743503000143, -0.5697255608391865, 0.3837262818331512, 0.9843819506325049, 0.6800013937302882, -0.24956930858045798, -0.9496871395301657, -0.7766669941024745, 0.11041720391967796, 0.8959843338731037, 0.8577875993070563, 0.030944901828293042, -0.8243483956816764, -0.9217395798793158, -0.17168764515577298, 0.7362131187458456, 0.9672429364932829, 0.3089940590981371, -0.6333425312327234, -0.9933869191569467, -0.4401159548467677, 0.5177955886508133, 0.9996482558795381, 0.5624289267667438, -0.3918849638415085, -0.9859016259639831, -0.6734848798934681, 0.2581307588164473, 0.9524221683015063, 0.7710610285700272, -0.11921006489861569, -0.8998799744648526, -0.8532043855172293, -0.022096619278683942, 0.8293266768209027, 0.9182708508872743, 0.1629610394708834, -0.7421744001016999, -0.9649581189333869, -0.3005637933500832, 0.6401674977183369, 0.9923317436681922, 0.43215076086181514, -0.5253476385155728, -0.9998438418065069, -0.5550882279566577, 0.4000129427560235, 0.987344058653017, 0.6669156003948422, -0.2666719852274808, -0.955082577452527, -0.7653946525566921, 0.12799358610147818, 0.903705111970614, 0.8485543255436181, 0.01324660552058789, -0.8342399825282196, -0.9147301779353751, -0.15422166624309427, 0.7480775341634341, 0.9625976995964054, 0.2921099792671752, -0.6469423088661069, -0.9911988217552068, -0.424151709070136, 0.5328585288581931, 0.9999610927573088, 0.5477040395322043, -0.40810958177221934, -0.9887091356890289, -0.660294069919136, 0.2751923186322931, 0.9576681585475916, 0.7596683100072248, -0.13676707936387883, -0.907459446701534, -0.8438377837054513, -0.004395553927897717, 0.8390879278598296, 0.911117838425468, 0.14547021017792156, -0.7539220584369601, -0.9601618634146094, -0.28363327918216646, 0.6536664338884767, 0.9899882421792622, 0.4161194261751267, -0.540327671221366, -0.999999999545659, -0.5402769400239504, 0.4161742465410129, 0.9899967501220404, 0.6536208072447929, -0.2836910914865273, -0.9601787090136331, -0.7538824495645917, 0.14552985730709223, 0.9111426845159583, 0.8390551295306262, -0.004455842044182302, -0.8438701329927379, -0.9074341153742778, -0.1367073569275377, 0.7597075150201029, 0.9576508012289697, 0.27513435722086477, -0.6603393459690063, -0.9887000997858916, -0.40805454148374776, 0.5477544804186207, 0.9999605591233189, 0.5328075113244262, -0.42420630521841407, -0.9912068010710522, -0.6468963352033298, 0.29216763793503586, 0.9626140321560251, 0.7480375245348201, -0.1542812333919083, -0.9147545368424774, -0.8342067377267571, 0.013306888913466725, 0.8485862232545117, 0.9036792973912307, 0.12793379303705288, -0.7654334506384766, -0.9550647097742044, -0.26661387925010005, 0.6669605223036468, 0.9873344954974584, 0.3999576868572196, -0.5551383745801722, -0.9998427745803359, -0.525296338642536, 0.4322051285150291, 0.9923391937319478, 0.6401211806383749, -0.3006212938640479, -0.9649739371739923, -0.742133992851483, 0.16302052197242078, 0.9182947207025364, 0.8292929881518186, -0.022156893225121342, -0.8532358291526331, -0.8998536786558422, -0.11915020589072603, 0.7710994166809965, 0.9524037916633658, 0.25807251282555527, -0.6735294441417007, -0.9858915363052498, -0.39182949666151784, 0.5624787751985085, 0.9996466551448001, 0.5177440104577087, -0.44017008974536365, -0.9933938393849207, -0.6332958743643905, 0.3090513969532009, 0.9672582391755589, 0.7361723170398212, -0.17174703834974567, -0.921762958732604, -0.824314265784384, 0.03100516160599342, 0.8578185864034492, 0.8959575588946699, 0.11035728365811025, -0.7767049692350272, -0.9496682553719656, -0.24951092713946563, 0.6800455968264643, 0.9843713352610934, 0.3836706077176726, -0.5697751071737155, -0.9993722161821225, -0.510151118473792, 0.4481005648769217, 0.9943706554014256, 0.6264209511250854, -0.3174572867274317, -0.9694667591920345, -0.7301529641805059, 0.18046009882566544, 0.9251589792059046, 0.8192709606934638, -0.03985100081893557, -0.8623341359607118, -0.8919912433578294, -0.1015557152401366, 0.7822496691211615, 0.9468583152216423, 0.24092979296818903, -0.6865084698355503, -0.9827740114685011, -0.3754816592518752, 0.5770267988585345, 0.99901947919383, 0.5025182575726944, -0.45599593257909704, -0.9952695652506521, -0.6194969495515196, 0.3258383046087229, 0.9715993241920361, 0.7240764058730438, -0.18915902075619492, -0.9284825160537067, -0.8141634680079446, 0.048693717817118926, 0.8667821240437084, 0.8879550427950801, 0.0927461902151406, -0.787733081927629, -0.9439741913633689, -0.23232978261965265, 0.692917556820885, 0.9810996900733364, 0.36726329284539677, -0.584233282103149, -0.9985884718158823, -0.49484602576777714, 0.46385557427185253, 0.9960904985055212, 0.6125244121199033, -0.3341937939677003, -0.9736557670950443, -0.7179431181988293, 0.19784312260506454, 0.9317333088861682, 0.8089921878856322, -0.05753261979833144, -0.8711622021649791]\n"
     ]
    }
   ],
   "source": [
    "print(results)"
   ]
  },
  {
   "cell_type": "code",
   "execution_count": 88,
   "id": "bcc41bc9-e4d6-4cdd-92ec-09d678df2025",
   "metadata": {},
   "outputs": [],
   "source": [
    "result = [math.cos(value) for value in many_values] # list comprehension"
   ]
  },
  {
   "cell_type": "code",
   "execution_count": 89,
   "id": "4f8a78f9-32b9-4365-a908-2eeecb24f7fd",
   "metadata": {},
   "outputs": [
    {
     "name": "stdout",
     "output_type": "stream",
     "text": [
      "[1.0, 0.5403023058681398, -0.4161468365471424, -0.9899924966004454, -0.6536436208636119, 0.28366218546322625, 0.960170286650366, 0.7539022543433046, -0.14550003380861354, -0.9111302618846769, -0.8390715290764524, 0.004425697988050785, 0.8438539587324921, 0.9074467814501962, 0.1367372182078336, -0.7596879128588213, -0.9576594803233847, -0.27516333805159693, 0.6603167082440802, 0.9887046181866692, 0.40808206181339196, -0.5477292602242684, -0.9999608263946371, -0.5328330203333975, 0.424179007336997, 0.9912028118634736, 0.6469193223286404, -0.2921388087338362, -0.9626058663135666, -0.7480575296890003, 0.15425144988758405, 0.9147423578045313, 0.8342233605065102, -0.013276747223059479, -0.8485702747846052, -0.9036922050915067, -0.12796368962740468, 0.7654140519453434, 0.9550736440472949, 0.26664293235993725, -0.6669380616522619, -0.9873392775238264, -0.39998531498835127, 0.5551133015206257, 0.9998433086476912, 0.5253219888177297, -0.4321779448847783, -0.9923354691509287, -0.6401443394691997, 0.3005925437436371, 0.9649660284921133, 0.7421541968137826, -0.16299078079570548, -0.9182827862121189, -0.8293098328631502, 0.022126756261955736, 0.8532201077225842, 0.8998668269691937, 0.11918013544881928, -0.7710802229758452, -0.9524129804151563, -0.25810163593826746, 0.6735071623235862, 0.9858965815825497, 0.39185723042955, -0.562453851238172, -0.99964745596635, -0.5177697997895051, 0.4401430224960407, 0.9933903797222716, 0.6333192030862999, -0.3090227281660707, -0.9672505882738824, -0.7361927182273159, 0.17171734183077755, 0.9217512697247493, 0.8243313311075577, -0.03097503173121646, -0.8578030932449878, -0.8959709467909631, -0.11038724383904756, 0.7766859820216312, 0.9496776978825432, 0.24954011797333814, -0.6800234955873388, -0.9843766433940419, -0.38369844494974187, 0.569750334265312, 0.9993732836951247, 0.5101770449416689, -0.4480736161291701, -0.9943674609282015, -0.626444447910339, 0.31742870151970165, 0.9694593666699876, 0.7301735609948197, -0.18043044929108396, -0.9251475365964139, -0.8192882452914593, 0.0398208803931389, 0.8623188722876839, 0.8920048697881602, 0.10158570369662134, -0.7822308898871159, -0.9468680107512125, -0.24095904923620143, 0.6864865509069841, 0.9827795820412206, 0.3755095977670121, -0.577002178942952, -0.999020813314648, -0.5025443191453852, 0.4559691044442761, 0.9952666362171313, 0.6195206125592099, -0.3258098052199642, -0.9715921906288022, -0.7240971967004738, 0.1891294205289584, 0.9284713207390763, 0.8141809705265618, -0.04866360920015389, -0.8667670910519801, -0.8879689066918555, -0.09277620459766088, 0.7877145121442345, 0.9439841391523142, 0.23235910202965793, -0.6928958219201651, -0.9811055226493881, -0.3672913304546965, 0.5842088171092893, 0.9985900724399912, 0.4948722204034305, -0.4638288688518717, -0.9960878351411849, -0.6125482394960996, 0.33416538263076073, 0.9736488930495181, 0.717964101410472, -0.19781357400426822, -0.9317223617435201, -0.8090099069535975, 0.05750252534912421, 0.8711474010323434, 0.8838633737085002, 0.08395943674184847, -0.7931364191664784, -0.9410263090291437, -0.22374095013558368, 0.6992508064783751, 0.9793545963764285, 0.35904428689111606, -0.5913696841443247, -0.9980810948185003, -0.48716134980334147, 0.47165229356133864, 0.9968309933617175, 0.6055278749869898, -0.34249477911590703, -0.9756293127952373, -0.7117747556357236, 0.20648222933781113, 0.9349004048997503, 0.803775459710974, -0.06633693633562374, -0.875459459043705, -0.8796885924951523, -0.07513609089835323, 0.7984961861625556, 0.9379947521194415, 0.21510526876214117, -0.7055510066862999, -0.9775269404025313, -0.3507691132091307, 0.5984842190140996, 0.9974939203271522, 0.47941231147032193, -0.4794387656291727, -0.9974960526543551, -0.5984600690578581, 0.3507973420904214, 0.9775332947055968, 0.705529644294206, -0.21513470736462095, -0.9380052012169503, -0.7984780389030324, 0.07516615000819327, 0.879702927248347, 0.8754448901342752, 0.06630685835171127, -0.8037933932096717, -0.9348897059372352, -0.20645273449087873, 0.711795928940826, 0.9756226979194443, 0.3424664577455166, -0.6055518643146514, -0.9968285949694307, -0.47162571251991114, 0.4871876750070059, 0.9980829609135574, 0.591345375451585, -0.35907242107165305, -0.9793606896089245, -0.6992292566729736, 0.22377033018717848, 0.9410365074429887, 0.7931180595679168, -0.08398947462256867, -0.8838774731823718, -0.8711325991081119, -0.057472430847665464, 0.8090276252864301, 0.9317114137542325, 0.19778402522372224, -0.7179850839697136, -0.9736420181192547, -0.33413697099017103, 0.6125720663156844, 0.9960851708717215, 0.4638021630104179, -0.49489841458940237, -0.9985916721566993, -0.5841843515845697, 0.36731936773024515, 0.9811113543339269, 0.6928740863898232, -0.23238842122852268, -0.9439940860834779, -0.787695941645058, 0.09280621889587708, 0.8879827697817494, 0.8667520572726362, 0.048633500538969116, -0.8141984723053474, -0.9284601245807608, -0.18909982012986337, 0.7241179868699296, 0.9715850561826999, 0.32578130553514806, -0.6195442750039529, -0.9952637062792294, -0.4559422758951242, 0.5025703802614231, 0.9990221465276736, 0.5769775585030581, -0.3755375359409301, -0.982785151720906, -0.68646463135462, 0.24098830528525864, 0.9468777054203809, 0.7822121099422712, -0.10161569206079699, -0.892018495407942, -0.8623036078310824, -0.03979075993115771, 0.8193055291449822, 0.9251360931462582, 0.18040079959254857, -0.7301941571456378, -0.9694519732670104, -0.31740011602352985, 0.6264679441263539, 0.9943642655514137, 0.44804666697426215, -0.510202970945957, -0.9993743503000143, -0.5697255608391865, 0.3837262818331512, 0.9843819506325049, 0.6800013937302882, -0.24956930858045798, -0.9496871395301657, -0.7766669941024745, 0.11041720391967796, 0.8959843338731037, 0.8577875993070563, 0.030944901828293042, -0.8243483956816764, -0.9217395798793158, -0.17168764515577298, 0.7362131187458456, 0.9672429364932829, 0.3089940590981371, -0.6333425312327234, -0.9933869191569467, -0.4401159548467677, 0.5177955886508133, 0.9996482558795381, 0.5624289267667438, -0.3918849638415085, -0.9859016259639831, -0.6734848798934681, 0.2581307588164473, 0.9524221683015063, 0.7710610285700272, -0.11921006489861569, -0.8998799744648526, -0.8532043855172293, -0.022096619278683942, 0.8293266768209027, 0.9182708508872743, 0.1629610394708834, -0.7421744001016999, -0.9649581189333869, -0.3005637933500832, 0.6401674977183369, 0.9923317436681922, 0.43215076086181514, -0.5253476385155728, -0.9998438418065069, -0.5550882279566577, 0.4000129427560235, 0.987344058653017, 0.6669156003948422, -0.2666719852274808, -0.955082577452527, -0.7653946525566921, 0.12799358610147818, 0.903705111970614, 0.8485543255436181, 0.01324660552058789, -0.8342399825282196, -0.9147301779353751, -0.15422166624309427, 0.7480775341634341, 0.9625976995964054, 0.2921099792671752, -0.6469423088661069, -0.9911988217552068, -0.424151709070136, 0.5328585288581931, 0.9999610927573088, 0.5477040395322043, -0.40810958177221934, -0.9887091356890289, -0.660294069919136, 0.2751923186322931, 0.9576681585475916, 0.7596683100072248, -0.13676707936387883, -0.907459446701534, -0.8438377837054513, -0.004395553927897717, 0.8390879278598296, 0.911117838425468, 0.14547021017792156, -0.7539220584369601, -0.9601618634146094, -0.28363327918216646, 0.6536664338884767, 0.9899882421792622, 0.4161194261751267, -0.540327671221366, -0.999999999545659, -0.5402769400239504, 0.4161742465410129, 0.9899967501220404, 0.6536208072447929, -0.2836910914865273, -0.9601787090136331, -0.7538824495645917, 0.14552985730709223, 0.9111426845159583, 0.8390551295306262, -0.004455842044182302, -0.8438701329927379, -0.9074341153742778, -0.1367073569275377, 0.7597075150201029, 0.9576508012289697, 0.27513435722086477, -0.6603393459690063, -0.9887000997858916, -0.40805454148374776, 0.5477544804186207, 0.9999605591233189, 0.5328075113244262, -0.42420630521841407, -0.9912068010710522, -0.6468963352033298, 0.29216763793503586, 0.9626140321560251, 0.7480375245348201, -0.1542812333919083, -0.9147545368424774, -0.8342067377267571, 0.013306888913466725, 0.8485862232545117, 0.9036792973912307, 0.12793379303705288, -0.7654334506384766, -0.9550647097742044, -0.26661387925010005, 0.6669605223036468, 0.9873344954974584, 0.3999576868572196, -0.5551383745801722, -0.9998427745803359, -0.525296338642536, 0.4322051285150291, 0.9923391937319478, 0.6401211806383749, -0.3006212938640479, -0.9649739371739923, -0.742133992851483, 0.16302052197242078, 0.9182947207025364, 0.8292929881518186, -0.022156893225121342, -0.8532358291526331, -0.8998536786558422, -0.11915020589072603, 0.7710994166809965, 0.9524037916633658, 0.25807251282555527, -0.6735294441417007, -0.9858915363052498, -0.39182949666151784, 0.5624787751985085, 0.9996466551448001, 0.5177440104577087, -0.44017008974536365, -0.9933938393849207, -0.6332958743643905, 0.3090513969532009, 0.9672582391755589, 0.7361723170398212, -0.17174703834974567, -0.921762958732604, -0.824314265784384, 0.03100516160599342, 0.8578185864034492, 0.8959575588946699, 0.11035728365811025, -0.7767049692350272, -0.9496682553719656, -0.24951092713946563, 0.6800455968264643, 0.9843713352610934, 0.3836706077176726, -0.5697751071737155, -0.9993722161821225, -0.510151118473792, 0.4481005648769217, 0.9943706554014256, 0.6264209511250854, -0.3174572867274317, -0.9694667591920345, -0.7301529641805059, 0.18046009882566544, 0.9251589792059046, 0.8192709606934638, -0.03985100081893557, -0.8623341359607118, -0.8919912433578294, -0.1015557152401366, 0.7822496691211615, 0.9468583152216423, 0.24092979296818903, -0.6865084698355503, -0.9827740114685011, -0.3754816592518752, 0.5770267988585345, 0.99901947919383, 0.5025182575726944, -0.45599593257909704, -0.9952695652506521, -0.6194969495515196, 0.3258383046087229, 0.9715993241920361, 0.7240764058730438, -0.18915902075619492, -0.9284825160537067, -0.8141634680079446, 0.048693717817118926, 0.8667821240437084, 0.8879550427950801, 0.0927461902151406, -0.787733081927629, -0.9439741913633689, -0.23232978261965265, 0.692917556820885, 0.9810996900733364, 0.36726329284539677, -0.584233282103149, -0.9985884718158823, -0.49484602576777714, 0.46385557427185253, 0.9960904985055212, 0.6125244121199033, -0.3341937939677003, -0.9736557670950443, -0.7179431181988293, 0.19784312260506454, 0.9317333088861682, 0.8089921878856322, -0.05753261979833144, -0.8711622021649791]\n"
     ]
    }
   ],
   "source": [
    "print(result)"
   ]
  },
  {
   "cell_type": "code",
   "execution_count": null,
   "id": "d4ae392b-6b16-4d3a-9d68-98dc8eee6330",
   "metadata": {},
   "outputs": [],
   "source": []
  }
 ],
 "metadata": {
  "kernelspec": {
   "display_name": "Python 3 (ipykernel)",
   "language": "python",
   "name": "python3"
  },
  "language_info": {
   "codemirror_mode": {
    "name": "ipython",
    "version": 3
   },
   "file_extension": ".py",
   "mimetype": "text/x-python",
   "name": "python",
   "nbconvert_exporter": "python",
   "pygments_lexer": "ipython3",
   "version": "3.8.10"
  }
 },
 "nbformat": 4,
 "nbformat_minor": 5
}
