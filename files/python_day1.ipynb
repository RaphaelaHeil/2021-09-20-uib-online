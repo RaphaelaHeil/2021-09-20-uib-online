{
 "cells": [
  {
   "cell_type": "markdown",
   "id": "6b3b013d-0dc7-4f7e-b313-ccb36114886f",
   "metadata": {},
   "source": [
    "# Python Day 1 "
   ]
  },
  {
   "cell_type": "markdown",
   "id": "4576fb89-4c10-408f-b247-8c79844df529",
   "metadata": {},
   "source": [
    "## Subsection"
   ]
  },
  {
   "cell_type": "markdown",
   "id": "cf42f7e7-4aae-462f-b85a-1a5f06b0a7eb",
   "metadata": {},
   "source": [
    "##### small headline"
   ]
  },
  {
   "cell_type": "markdown",
   "id": "6269813e-b5c0-48d0-8d34-480b541826be",
   "metadata": {},
   "source": [
    "normal text: Hello :) "
   ]
  },
  {
   "cell_type": "markdown",
   "id": "fe930d10-ca1a-4c3f-98e6-2da8d780c275",
   "metadata": {},
   "source": [
    "* apples\n",
    "* bread\n",
    "* butter"
   ]
  },
  {
   "cell_type": "markdown",
   "id": "812a070c-8a99-4cda-bfaf-f5ed69667deb",
   "metadata": {},
   "source": [
    "1. Run a cell with Shift+Enter\n",
    "1. add a cell above the current with 'a'"
   ]
  },
  {
   "cell_type": "markdown",
   "id": "a00b0f5f-8aa7-4f10-86d5-6426408b1a07",
   "metadata": {},
   "source": [
    "change cell to markdown: m"
   ]
  },
  {
   "cell_type": "markdown",
   "id": "2eea28e5-347b-4201-9850-485103fb8621",
   "metadata": {},
   "source": [
    "change cell to code: y"
   ]
  },
  {
   "cell_type": "markdown",
   "id": "671c5665-53c7-4545-940e-e0a2e8319531",
   "metadata": {},
   "source": [
    "* Vegteables\n",
    "    * Lettuce\n",
    "    * something else"
   ]
  },
  {
   "cell_type": "markdown",
   "id": "e7723593-5153-4561-8a86-4313e7fa7477",
   "metadata": {},
   "source": [
    "## Links in Markdown\n",
    "[I am a link](http://software-carpentry.org)"
   ]
  },
  {
   "cell_type": "markdown",
   "id": "5a5d4a10-c9a3-40c2-8e1c-7ed792d59e7f",
   "metadata": {},
   "source": [
    "[I am a named link][data_carpentry]\n",
    "\n",
    "\n",
    "[data_carpentry]: http://datacarpentry.org\n"
   ]
  },
  {
   "cell_type": "markdown",
   "id": "6080c0ce-9274-4caf-9267-104c18456e26",
   "metadata": {},
   "source": [
    "# Exercise: make a shopping list with nested items"
   ]
  },
  {
   "cell_type": "markdown",
   "id": "4f6b47be-ca69-4dcd-818f-4ed0283e565a",
   "metadata": {},
   "source": [
    "this is two lines without\n",
    "blanks\n",
    "\n",
    "Ctrl + Enter = execute stay in the same cell\n",
    "\n",
    "Shift + Enter = execute cell and move to next cell"
   ]
  },
  {
   "cell_type": "markdown",
   "id": "73b4560a-359a-49a2-a351-b8063fd5d349",
   "metadata": {},
   "source": [
    "# Getting started with Python"
   ]
  },
  {
   "cell_type": "code",
   "execution_count": 3,
   "id": "31fef65c-05d3-4709-9247-8e50c33d8898",
   "metadata": {},
   "outputs": [
    {
     "data": {
      "text/plain": [
       "3"
      ]
     },
     "execution_count": 3,
     "metadata": {},
     "output_type": "execute_result"
    }
   ],
   "source": [
    "1 + 2"
   ]
  },
  {
   "cell_type": "code",
   "execution_count": 2,
   "id": "876e2fe9-fb48-4392-8143-f2229a5f155d",
   "metadata": {},
   "outputs": [
    {
     "data": {
      "text/plain": [
       "12"
      ]
     },
     "execution_count": 2,
     "metadata": {},
     "output_type": "execute_result"
    }
   ],
   "source": [
    "3 * 4"
   ]
  },
  {
   "cell_type": "code",
   "execution_count": 4,
   "id": "f9d92f77-5129-4f34-b63e-b50a18d4e988",
   "metadata": {},
   "outputs": [],
   "source": [
    "x = 42"
   ]
  },
  {
   "cell_type": "code",
   "execution_count": 5,
   "id": "ea312561-d339-4a01-9a83-5badadc20b31",
   "metadata": {},
   "outputs": [
    {
     "name": "stdout",
     "output_type": "stream",
     "text": [
      "42\n"
     ]
    }
   ],
   "source": [
    "print(x)"
   ]
  },
  {
   "cell_type": "code",
   "execution_count": 6,
   "id": "dd4d4570-2a07-48d5-ba71-0e0ef951c517",
   "metadata": {},
   "outputs": [],
   "source": [
    "x = 84"
   ]
  },
  {
   "cell_type": "code",
   "execution_count": 7,
   "id": "00f60312-12fb-4db0-965c-c57e54f90462",
   "metadata": {},
   "outputs": [
    {
     "name": "stdout",
     "output_type": "stream",
     "text": [
      "84\n"
     ]
    }
   ],
   "source": [
    "print(x)"
   ]
  },
  {
   "cell_type": "code",
   "execution_count": 8,
   "id": "8ad6fca9-8d91-427a-8b20-728f881f5d98",
   "metadata": {},
   "outputs": [
    {
     "name": "stdout",
     "output_type": "stream",
     "text": [
      "Raphaela is 29 years old\n"
     ]
    }
   ],
   "source": [
    "age = 29\n",
    "first_name = \"Raphaela\"\n",
    "print(first_name, \"is\", age, \"years old\")"
   ]
  },
  {
   "cell_type": "code",
   "execution_count": 9,
   "id": "447c0d63-44d2-4b1f-9b0f-addeebce1bdf",
   "metadata": {},
   "outputs": [
    {
     "name": "stdout",
     "output_type": "stream",
     "text": [
      "29 80\n"
     ]
    }
   ],
   "source": [
    "AGE = 80\n",
    "print(age, AGE)"
   ]
  },
  {
   "cell_type": "code",
   "execution_count": 14,
   "id": "3bc1834f-98ad-405f-a5d3-1ede8fc3a564",
   "metadata": {},
   "outputs": [
    {
     "name": "stdout",
     "output_type": "stream",
     "text": [
      "Hello\n"
     ]
    }
   ],
   "source": [
    "print(last_name)"
   ]
  },
  {
   "cell_type": "code",
   "execution_count": 13,
   "id": "2ff3829a-ad3f-4364-b9cb-332e8f0ada18",
   "metadata": {},
   "outputs": [
    {
     "name": "stdout",
     "output_type": "stream",
     "text": [
      "Hello\n"
     ]
    }
   ],
   "source": [
    "last_name = \"Hello\"\n",
    "print(last_name)"
   ]
  },
  {
   "cell_type": "code",
   "execution_count": 15,
   "id": "dd475791-4d6e-4273-83b8-7852d172dd26",
   "metadata": {},
   "outputs": [
    {
     "data": {
      "text/plain": [
       "{'__name__': '__main__',\n",
       " '__doc__': 'Automatically created module for IPython interactive environment',\n",
       " '__package__': None,\n",
       " '__loader__': None,\n",
       " '__spec__': None,\n",
       " '__builtin__': <module 'builtins' (built-in)>,\n",
       " '__builtins__': <module 'builtins' (built-in)>,\n",
       " '_ih': ['',\n",
       "  '1 + 2',\n",
       "  '3 * 4',\n",
       "  '1 + 2',\n",
       "  'x = 42',\n",
       "  'print(x)',\n",
       "  'x = 84',\n",
       "  'print(x)',\n",
       "  'age = 29\\nfirst_name = \"Raphaela\"\\nprint(first_name, \"is\", age, \"years old\")',\n",
       "  'AGE = 80\\nprint(age, AGE)',\n",
       "  'print(last_name)',\n",
       "  'last_name = \"Heil\"\\nprint(last_name)',\n",
       "  'print(last_name)',\n",
       "  'last_name = \"Hello\"\\nprint(last_name)',\n",
       "  'print(last_name)',\n",
       "  'globals()'],\n",
       " '_oh': {1: 3, 2: 12, 3: 3},\n",
       " '_dh': ['/home/raphaela/Desktop/python-novice-gapminder-data'],\n",
       " 'In': ['',\n",
       "  '1 + 2',\n",
       "  '3 * 4',\n",
       "  '1 + 2',\n",
       "  'x = 42',\n",
       "  'print(x)',\n",
       "  'x = 84',\n",
       "  'print(x)',\n",
       "  'age = 29\\nfirst_name = \"Raphaela\"\\nprint(first_name, \"is\", age, \"years old\")',\n",
       "  'AGE = 80\\nprint(age, AGE)',\n",
       "  'print(last_name)',\n",
       "  'last_name = \"Heil\"\\nprint(last_name)',\n",
       "  'print(last_name)',\n",
       "  'last_name = \"Hello\"\\nprint(last_name)',\n",
       "  'print(last_name)',\n",
       "  'globals()'],\n",
       " 'Out': {1: 3, 2: 12, 3: 3},\n",
       " 'get_ipython': <bound method InteractiveShell.get_ipython of <ipykernel.zmqshell.ZMQInteractiveShell object at 0x7f43842e49a0>>,\n",
       " 'exit': <IPython.core.autocall.ZMQExitAutocall at 0x7f438026bc70>,\n",
       " 'quit': <IPython.core.autocall.ZMQExitAutocall at 0x7f438026bc70>,\n",
       " '_': 3,\n",
       " '__': 12,\n",
       " '___': 3,\n",
       " '_i': 'print(last_name)',\n",
       " '_ii': 'last_name = \"Hello\"\\nprint(last_name)',\n",
       " '_iii': 'print(last_name)',\n",
       " '_i1': '1 + 2',\n",
       " '_1': 3,\n",
       " '_i2': '3 * 4',\n",
       " '_2': 12,\n",
       " '_i3': '1 + 2',\n",
       " '_3': 3,\n",
       " '_i4': 'x = 42',\n",
       " 'x': 84,\n",
       " '_i5': 'print(x)',\n",
       " '_i6': 'x = 84',\n",
       " '_i7': 'print(x)',\n",
       " '_i8': 'age = 29\\nfirst_name = \"Raphaela\"\\nprint(first_name, \"is\", age, \"years old\")',\n",
       " 'age': 29,\n",
       " 'first_name': 'Raphaela',\n",
       " '_i9': 'AGE = 80\\nprint(age, AGE)',\n",
       " 'AGE': 80,\n",
       " '_i10': 'print(last_name)',\n",
       " '_i11': 'last_name = \"Heil\"\\nprint(last_name)',\n",
       " 'last_name': 'Hello',\n",
       " '_i12': 'print(last_name)',\n",
       " '_i13': 'last_name = \"Hello\"\\nprint(last_name)',\n",
       " '_i14': 'print(last_name)',\n",
       " '_i15': 'globals()'}"
      ]
     },
     "execution_count": 15,
     "metadata": {},
     "output_type": "execute_result"
    }
   ],
   "source": [
    "globals()"
   ]
  },
  {
   "cell_type": "code",
   "execution_count": 17,
   "id": "c133a166-35ba-404e-984e-a8edf590b37e",
   "metadata": {},
   "outputs": [
    {
     "name": "stdout",
     "output_type": "stream",
     "text": [
      "Variable     Type    Data/Info\n",
      "------------------------------\n",
      "AGE          int     80\n",
      "age          int     29\n",
      "first_name   str     Raphaela\n",
      "last_name    str     Hello\n",
      "x            int     84\n"
     ]
    }
   ],
   "source": [
    "%whos"
   ]
  },
  {
   "cell_type": "code",
   "execution_count": 18,
   "id": "fb9f29ac-c7dc-4514-bbce-21295812a7ac",
   "metadata": {},
   "outputs": [
    {
     "data": {
      "text/plain": [
       "3"
      ]
     },
     "execution_count": 18,
     "metadata": {},
     "output_type": "execute_result"
    }
   ],
   "source": [
    "1 + 2"
   ]
  },
  {
   "cell_type": "code",
   "execution_count": 19,
   "id": "00a5f4d8-17d3-4f7d-bde5-c40e0d3446cc",
   "metadata": {},
   "outputs": [
    {
     "name": "stdout",
     "output_type": "stream",
     "text": [
      "age in three years 32\n"
     ]
    }
   ],
   "source": [
    "age = age + 3\n",
    "print(\"age in three years\", age)"
   ]
  },
  {
   "cell_type": "code",
   "execution_count": null,
   "id": "c10adc48-6648-4f89-8cc6-2338a1bc29ca",
   "metadata": {},
   "outputs": [],
   "source": [
    "# Fill the table showing the values of the variables in this program after each statement is executed.\n",
    "\n",
    "# Command  # Value of x   # Value of y   # Value of swap #\n",
    "x = 1.0    #   1.0        #    undefined #  undefined    #\n",
    "y = 3.0    #   1.0        # 3.0          #  undefined    #\n",
    "swap = x   #   1.0        # 3.0          #    1.0        #\n",
    "x = y      #  3.0         # 3.0          # 1.0           #\n",
    "y = swap   #  3.0         #   1.0        # 1.0           #"
   ]
  },
  {
   "cell_type": "code",
   "execution_count": 22,
   "id": "259ac9fe-75d1-4596-a10d-9b3fcbac2fd2",
   "metadata": {},
   "outputs": [
    {
     "name": "stdout",
     "output_type": "stream",
     "text": [
      "1.0 3.0\n"
     ]
    }
   ],
   "source": [
    "x = 1.0 \n",
    "y = 3.0 \n",
    "print(x, y)"
   ]
  },
  {
   "cell_type": "code",
   "execution_count": 23,
   "id": "e7b2b877-3273-4701-88d3-8b06fff7e371",
   "metadata": {},
   "outputs": [
    {
     "name": "stdout",
     "output_type": "stream",
     "text": [
      "1.0 3.0 1.0\n"
     ]
    }
   ],
   "source": [
    "swap = x\n",
    "print(x, y, swap)"
   ]
  },
  {
   "cell_type": "code",
   "execution_count": 24,
   "id": "515c3c94-8831-4556-a6dc-f4f0542a2166",
   "metadata": {},
   "outputs": [
    {
     "name": "stdout",
     "output_type": "stream",
     "text": [
      "3.0 3.0 1.0\n"
     ]
    }
   ],
   "source": [
    "x= y\n",
    "print(x, y, swap)"
   ]
  },
  {
   "cell_type": "code",
   "execution_count": 25,
   "id": "0fd3e99c-0985-458e-9be2-cd5228657dfa",
   "metadata": {},
   "outputs": [
    {
     "name": "stdout",
     "output_type": "stream",
     "text": [
      "3.0 1.0 1.0\n"
     ]
    }
   ],
   "source": [
    "y = swap\n",
    "print(x, y , swap)"
   ]
  },
  {
   "cell_type": "code",
   "execution_count": 26,
   "id": "2a44c192-fa99-4f03-ab01-7c299aeb28a1",
   "metadata": {},
   "outputs": [
    {
     "name": "stdout",
     "output_type": "stream",
     "text": [
      "R\n"
     ]
    }
   ],
   "source": [
    "first_name = \"Raphaela\" # index starts at zero! \n",
    "print(first_name[0])"
   ]
  },
  {
   "cell_type": "code",
   "execution_count": 27,
   "id": "420ceb3d-564a-4beb-aa4f-96f4a215a601",
   "metadata": {},
   "outputs": [
    {
     "ename": "TypeError",
     "evalue": "'int' object is not subscriptable",
     "output_type": "error",
     "traceback": [
      "\u001b[0;31m---------------------------------------------------------------------------\u001b[0m",
      "\u001b[0;31mTypeError\u001b[0m                                 Traceback (most recent call last)",
      "\u001b[0;32m/tmp/ipykernel_117122/3857140466.py\u001b[0m in \u001b[0;36m<module>\u001b[0;34m\u001b[0m\n\u001b[1;32m      1\u001b[0m \u001b[0ma\u001b[0m \u001b[0;34m=\u001b[0m \u001b[0;36m123\u001b[0m\u001b[0;34m\u001b[0m\u001b[0;34m\u001b[0m\u001b[0m\n\u001b[0;32m----> 2\u001b[0;31m \u001b[0mprint\u001b[0m\u001b[0;34m(\u001b[0m\u001b[0ma\u001b[0m\u001b[0;34m[\u001b[0m\u001b[0;36m1\u001b[0m\u001b[0;34m]\u001b[0m\u001b[0;34m)\u001b[0m\u001b[0;34m\u001b[0m\u001b[0;34m\u001b[0m\u001b[0m\n\u001b[0m",
      "\u001b[0;31mTypeError\u001b[0m: 'int' object is not subscriptable"
     ]
    }
   ],
   "source": [
    "a = 123\n",
    "print(a[1])"
   ]
  },
  {
   "cell_type": "code",
   "execution_count": 29,
   "id": "f92d102b-44c0-45d5-9e6b-e7d8e97db6d1",
   "metadata": {},
   "outputs": [
    {
     "name": "stdout",
     "output_type": "stream",
     "text": [
      "sod\n"
     ]
    }
   ],
   "source": [
    "atom_name = \"sodium\"\n",
    "print(atom_name[0:3]) # math: [0,3)"
   ]
  },
  {
   "cell_type": "code",
   "execution_count": 30,
   "id": "be58e295-1b25-483d-a988-e7e409d7b9cd",
   "metadata": {},
   "outputs": [
    {
     "name": "stdout",
     "output_type": "stream",
     "text": [
      "di\n"
     ]
    }
   ],
   "source": [
    "print(atom_name[2:4])"
   ]
  },
  {
   "cell_type": "markdown",
   "id": "478e4905-ca11-4959-a9cd-3ec69ff00ead",
   "metadata": {},
   "source": [
    "## Built-in: len"
   ]
  },
  {
   "cell_type": "code",
   "execution_count": 31,
   "id": "0fc715b9-e7a5-465c-bb14-c4f7ff57c2bc",
   "metadata": {},
   "outputs": [
    {
     "name": "stdout",
     "output_type": "stream",
     "text": [
      "6\n"
     ]
    }
   ],
   "source": [
    "print(len(atom_name))"
   ]
  },
  {
   "cell_type": "code",
   "execution_count": 35,
   "id": "663590ad-4409-4b90-9f94-23e21c6066a0",
   "metadata": {},
   "outputs": [
    {
     "name": "stdout",
     "output_type": "stream",
     "text": [
      "2\n",
      "2\n"
     ]
    }
   ],
   "source": [
    "print(len(atom_name[2:4]))\n",
    "print(len(atom_name[4:6]))"
   ]
  },
  {
   "cell_type": "code",
   "execution_count": 33,
   "id": "2a26cc76-554d-4afd-b842-4ac750d84af7",
   "metadata": {},
   "outputs": [],
   "source": [
    "asdasda = \"Raphaela\""
   ]
  },
  {
   "cell_type": "code",
   "execution_count": 34,
   "id": "2305e022-06b5-4f0d-ab76-bdff8f5df8f2",
   "metadata": {},
   "outputs": [
    {
     "name": "stdout",
     "output_type": "stream",
     "text": [
      "Raphaela\n"
     ]
    }
   ],
   "source": [
    "print(asdasda)"
   ]
  },
  {
   "cell_type": "code",
   "execution_count": 39,
   "id": "68b7eefe-0a6f-4570-9764-0539485a46bd",
   "metadata": {},
   "outputs": [
    {
     "name": "stdout",
     "output_type": "stream",
     "text": [
      "sodium\n",
      "di\n",
      "um\n"
     ]
    }
   ],
   "source": [
    "print(atom_name)\n",
    "print(atom_name[2:4])\n",
    "print(atom_name[4:6])"
   ]
  },
  {
   "cell_type": "code",
   "execution_count": 37,
   "id": "17f3711f-9faf-4335-ba75-f578528533d7",
   "metadata": {},
   "outputs": [
    {
     "name": "stdout",
     "output_type": "stream",
     "text": [
      "m\n"
     ]
    }
   ],
   "source": [
    "print(atom_name[-1])"
   ]
  },
  {
   "cell_type": "code",
   "execution_count": 38,
   "id": "b375cdad-651d-486e-92b1-34fa0764641b",
   "metadata": {},
   "outputs": [
    {
     "name": "stdout",
     "output_type": "stream",
     "text": [
      "i\n"
     ]
    }
   ],
   "source": [
    "print(atom_name[-3])"
   ]
  },
  {
   "cell_type": "markdown",
   "id": "06e0c20b-99ab-4885-9c7d-06bc07acf819",
   "metadata": {},
   "source": [
    "# Data Types and Type Conversion"
   ]
  },
  {
   "cell_type": "code",
   "execution_count": 40,
   "id": "a941143e-b1bf-47d7-bfd3-8c09db24ff5c",
   "metadata": {},
   "outputs": [
    {
     "name": "stdout",
     "output_type": "stream",
     "text": [
      "Variable     Type     Data/Info\n",
      "-------------------------------\n",
      "AGE          int      80\n",
      "a            int      123\n",
      "age          int      32\n",
      "asdasda      str      Raphaela\n",
      "atom_name    str      sodium\n",
      "first_name   str      Raphaela\n",
      "last_name    str      Hello\n",
      "swap         float    1.0\n",
      "x            float    3.0\n",
      "y            float    1.0\n"
     ]
    }
   ],
   "source": [
    "%whos"
   ]
  },
  {
   "cell_type": "markdown",
   "id": "9e48f094-9e1e-4f3a-b9ce-4b2936fa7cd0",
   "metadata": {},
   "source": [
    "int = Integer, whole number -> 1, 2, 3\n",
    "\n",
    "str = string a characters -> \"hello\"\n",
    "\n",
    "float = floating point number, real number -> 3.14, 2.25"
   ]
  },
  {
   "cell_type": "code",
   "execution_count": 41,
   "id": "3d57304a-db88-433b-ae9b-48fc14f9b410",
   "metadata": {},
   "outputs": [
    {
     "name": "stdout",
     "output_type": "stream",
     "text": [
      "<class 'float'>\n"
     ]
    }
   ],
   "source": [
    "print(type(x))"
   ]
  },
  {
   "cell_type": "code",
   "execution_count": 43,
   "id": "1655f77c-2f45-44b9-868b-b917d386de87",
   "metadata": {},
   "outputs": [
    {
     "name": "stdout",
     "output_type": "stream",
     "text": [
      "<class 'float'>\n",
      "<class 'float'>\n"
     ]
    }
   ],
   "source": [
    "print(type(3.4))\n",
    "print(type(3 + 2.5))"
   ]
  },
  {
   "cell_type": "code",
   "execution_count": 44,
   "id": "03a1efec-3a54-4262-89fd-5c873360424c",
   "metadata": {},
   "outputs": [
    {
     "name": "stdout",
     "output_type": "stream",
     "text": [
      "2\n",
      "2.0\n"
     ]
    },
    {
     "ename": "TypeError",
     "evalue": "unsupported operand type(s) for -: 'str' and 'str'",
     "output_type": "error",
     "traceback": [
      "\u001b[0;31m---------------------------------------------------------------------------\u001b[0m",
      "\u001b[0;31mTypeError\u001b[0m                                 Traceback (most recent call last)",
      "\u001b[0;32m/tmp/ipykernel_117122/3918105987.py\u001b[0m in \u001b[0;36m<module>\u001b[0;34m\u001b[0m\n\u001b[1;32m      1\u001b[0m \u001b[0mprint\u001b[0m\u001b[0;34m(\u001b[0m\u001b[0;36m5\u001b[0m\u001b[0;34m-\u001b[0m\u001b[0;36m3\u001b[0m\u001b[0;34m)\u001b[0m\u001b[0;34m\u001b[0m\u001b[0;34m\u001b[0m\u001b[0m\n\u001b[1;32m      2\u001b[0m \u001b[0mprint\u001b[0m\u001b[0;34m(\u001b[0m\u001b[0;36m5\u001b[0m\u001b[0;34m-\u001b[0m\u001b[0;36m3.0\u001b[0m\u001b[0;34m)\u001b[0m\u001b[0;34m\u001b[0m\u001b[0;34m\u001b[0m\u001b[0m\n\u001b[0;32m----> 3\u001b[0;31m \u001b[0mprint\u001b[0m\u001b[0;34m(\u001b[0m\u001b[0;34m\"hello\"\u001b[0m \u001b[0;34m-\u001b[0m \u001b[0;34m\"h\"\u001b[0m\u001b[0;34m)\u001b[0m\u001b[0;34m\u001b[0m\u001b[0;34m\u001b[0m\u001b[0m\n\u001b[0m",
      "\u001b[0;31mTypeError\u001b[0m: unsupported operand type(s) for -: 'str' and 'str'"
     ]
    }
   ],
   "source": [
    "print(5-3) \n",
    "print(5-3.0) \n",
    "print(\"hello\" - \"h\")"
   ]
  },
  {
   "cell_type": "code",
   "execution_count": 45,
   "id": "300ab1c2-e7ca-443c-b129-b5c18a909e0b",
   "metadata": {},
   "outputs": [
    {
     "name": "stdout",
     "output_type": "stream",
     "text": [
      "RaphaelaHello\n"
     ]
    }
   ],
   "source": [
    "full_name = first_name + last_name\n",
    "print(full_name)"
   ]
  },
  {
   "cell_type": "code",
   "execution_count": 46,
   "id": "2be46251-1681-4932-a6ea-76a35398fc13",
   "metadata": {},
   "outputs": [
    {
     "name": "stdout",
     "output_type": "stream",
     "text": [
      "Raphaela Hello\n"
     ]
    }
   ],
   "source": [
    "print(first_name, last_name)"
   ]
  },
  {
   "cell_type": "code",
   "execution_count": 47,
   "id": "51a853ac-7b27-4037-9ba1-ea3a08ea36a8",
   "metadata": {},
   "outputs": [
    {
     "name": "stdout",
     "output_type": "stream",
     "text": [
      "==========\n"
     ]
    }
   ],
   "source": [
    "separator = \"=\" * 10 \n",
    "print(separator)"
   ]
  },
  {
   "cell_type": "code",
   "execution_count": 48,
   "id": "675132fe-651f-41bd-926d-37a99f23a9ec",
   "metadata": {},
   "outputs": [
    {
     "name": "stdout",
     "output_type": "stream",
     "text": [
      "8\n"
     ]
    }
   ],
   "source": [
    "print(len(first_name))"
   ]
  },
  {
   "cell_type": "code",
   "execution_count": 49,
   "id": "9f49a1bb-319b-43f3-9a10-522e8525bb4a",
   "metadata": {},
   "outputs": [
    {
     "ename": "TypeError",
     "evalue": "object of type 'int' has no len()",
     "output_type": "error",
     "traceback": [
      "\u001b[0;31m---------------------------------------------------------------------------\u001b[0m",
      "\u001b[0;31mTypeError\u001b[0m                                 Traceback (most recent call last)",
      "\u001b[0;32m/tmp/ipykernel_117122/1826739901.py\u001b[0m in \u001b[0;36m<module>\u001b[0;34m\u001b[0m\n\u001b[0;32m----> 1\u001b[0;31m \u001b[0mprint\u001b[0m\u001b[0;34m(\u001b[0m\u001b[0mlen\u001b[0m\u001b[0;34m(\u001b[0m\u001b[0;36m123\u001b[0m\u001b[0;34m)\u001b[0m\u001b[0;34m)\u001b[0m\u001b[0;34m\u001b[0m\u001b[0;34m\u001b[0m\u001b[0m\n\u001b[0m",
      "\u001b[0;31mTypeError\u001b[0m: object of type 'int' has no len()"
     ]
    }
   ],
   "source": [
    "print(len(123))"
   ]
  },
  {
   "cell_type": "code",
   "execution_count": 50,
   "id": "83d2aa13-8205-4918-81c8-e12d3ef6139b",
   "metadata": {},
   "outputs": [
    {
     "name": "stdout",
     "output_type": "stream",
     "text": [
      "123\n"
     ]
    }
   ],
   "source": [
    "print(str(123))"
   ]
  },
  {
   "cell_type": "code",
   "execution_count": 51,
   "id": "2b151e6f-80bd-4fa8-b1bd-93b1d242edf1",
   "metadata": {},
   "outputs": [
    {
     "name": "stdout",
     "output_type": "stream",
     "text": [
      "3\n"
     ]
    }
   ],
   "source": [
    "print(len(str(123)))"
   ]
  },
  {
   "cell_type": "code",
   "execution_count": 53,
   "id": "0d15a4ce-4814-4a78-8799-4329486ede5f",
   "metadata": {},
   "outputs": [
    {
     "name": "stdout",
     "output_type": "stream",
     "text": [
      "3\n",
      "12\n"
     ]
    }
   ],
   "source": [
    "print(1 + int(\"2\"))\n",
    "print(str(1) + \"2\")"
   ]
  },
  {
   "cell_type": "code",
   "execution_count": 54,
   "id": "b0641369-498a-41b4-a4a3-701bed4aa6a6",
   "metadata": {},
   "outputs": [
    {
     "name": "stdout",
     "output_type": "stream",
     "text": [
      "1 5\n",
      "2 5\n"
     ]
    }
   ],
   "source": [
    "first = 1\n",
    "second = first * 5\n",
    "print(first, second)\n",
    "first = 2\n",
    "print(first, second)"
   ]
  },
  {
   "cell_type": "code",
   "execution_count": 56,
   "id": "cd76f0b5-967f-44ef-90b3-850de5b518e4",
   "metadata": {},
   "outputs": [
    {
     "name": "stdout",
     "output_type": "stream",
     "text": [
      "string to float <class 'float'>\n"
     ]
    }
   ],
   "source": [
    "print(\"string to float\", type(float(\"3.4\")))"
   ]
  },
  {
   "cell_type": "code",
   "execution_count": 57,
   "id": "4306833b-8f43-44fe-b87a-021b0c7b0b92",
   "metadata": {},
   "outputs": [
    {
     "name": "stdout",
     "output_type": "stream",
     "text": [
      "int to float <class 'float'>\n"
     ]
    }
   ],
   "source": [
    "print(\"int to float\", type(float(5)))"
   ]
  },
  {
   "cell_type": "code",
   "execution_count": 58,
   "id": "1f464dec-2c9e-4f17-92d7-05d41b763e4a",
   "metadata": {},
   "outputs": [
    {
     "ename": "ValueError",
     "evalue": "could not convert string to float: 'hello'",
     "output_type": "error",
     "traceback": [
      "\u001b[0;31m---------------------------------------------------------------------------\u001b[0m",
      "\u001b[0;31mValueError\u001b[0m                                Traceback (most recent call last)",
      "\u001b[0;32m/tmp/ipykernel_117122/2092135160.py\u001b[0m in \u001b[0;36m<module>\u001b[0;34m\u001b[0m\n\u001b[0;32m----> 1\u001b[0;31m \u001b[0mprint\u001b[0m\u001b[0;34m(\u001b[0m\u001b[0;34m\"another string to float\"\u001b[0m\u001b[0;34m,\u001b[0m \u001b[0mfloat\u001b[0m\u001b[0;34m(\u001b[0m\u001b[0;34m\"hello\"\u001b[0m\u001b[0;34m)\u001b[0m\u001b[0;34m)\u001b[0m\u001b[0;34m\u001b[0m\u001b[0;34m\u001b[0m\u001b[0m\n\u001b[0m",
      "\u001b[0;31mValueError\u001b[0m: could not convert string to float: 'hello'"
     ]
    }
   ],
   "source": [
    "print(\"another string to float\", float(\"hello\")) "
   ]
  },
  {
   "cell_type": "code",
   "execution_count": 59,
   "id": "1e7da912-dd62-4c69-bbae-21dc8439e88a",
   "metadata": {},
   "outputs": [
    {
     "ename": "ValueError",
     "evalue": "invalid literal for int() with base 10: '3.4'",
     "output_type": "error",
     "traceback": [
      "\u001b[0;31m---------------------------------------------------------------------------\u001b[0m",
      "\u001b[0;31mValueError\u001b[0m                                Traceback (most recent call last)",
      "\u001b[0;32m/tmp/ipykernel_117122/1362789627.py\u001b[0m in \u001b[0;36m<module>\u001b[0;34m\u001b[0m\n\u001b[0;32m----> 1\u001b[0;31m \u001b[0mprint\u001b[0m\u001b[0;34m(\u001b[0m\u001b[0mint\u001b[0m\u001b[0;34m(\u001b[0m\u001b[0;34m\"3.4\"\u001b[0m\u001b[0;34m)\u001b[0m\u001b[0;34m)\u001b[0m\u001b[0;34m\u001b[0m\u001b[0;34m\u001b[0m\u001b[0m\n\u001b[0m",
      "\u001b[0;31mValueError\u001b[0m: invalid literal for int() with base 10: '3.4'"
     ]
    }
   ],
   "source": [
    "print(int(\"3.4\"))"
   ]
  },
  {
   "cell_type": "code",
   "execution_count": 60,
   "id": "f03f6ac0-9adf-4a26-b770-442fcf4bbe15",
   "metadata": {},
   "outputs": [
    {
     "name": "stdout",
     "output_type": "stream",
     "text": [
      "3\n"
     ]
    }
   ],
   "source": [
    "print(int(float(\"3.4\")))"
   ]
  },
  {
   "cell_type": "markdown",
   "id": "ee72451f-8e3c-4f1f-85ef-203056caad67",
   "metadata": {},
   "source": [
    "# exercise until 11:10 https://swcarpentry.github.io/python-novice-gapminder/03-types-conversion/index.html#arithmetic-with-different-types "
   ]
  },
  {
   "cell_type": "code",
   "execution_count": 62,
   "id": "67fc85bc-14f4-42cb-8b42-134997861503",
   "metadata": {},
   "outputs": [],
   "source": [
    "first = 1.0\n",
    "second = \"1\"\n",
    "third = \"1.1\""
   ]
  },
  {
   "cell_type": "code",
   "execution_count": 63,
   "id": "efbca0cc-d2d7-4155-9f70-bd85d93effdf",
   "metadata": {},
   "outputs": [
    {
     "data": {
      "text/plain": [
       "2.0"
      ]
     },
     "execution_count": 63,
     "metadata": {},
     "output_type": "execute_result"
    }
   ],
   "source": [
    "first + float(second)"
   ]
  },
  {
   "cell_type": "code",
   "execution_count": 64,
   "id": "2ac4930d-163a-4a69-95d9-966f0bdb40e7",
   "metadata": {},
   "outputs": [
    {
     "data": {
      "text/plain": [
       "2.1"
      ]
     },
     "execution_count": 64,
     "metadata": {},
     "output_type": "execute_result"
    }
   ],
   "source": [
    "float(second) + float(third)"
   ]
  },
  {
   "cell_type": "code",
   "execution_count": 65,
   "id": "245929c7-0174-4e13-950f-0f3e6d804b5c",
   "metadata": {},
   "outputs": [
    {
     "ename": "ValueError",
     "evalue": "invalid literal for int() with base 10: '1.1'",
     "output_type": "error",
     "traceback": [
      "\u001b[0;31m---------------------------------------------------------------------------\u001b[0m",
      "\u001b[0;31mValueError\u001b[0m                                Traceback (most recent call last)",
      "\u001b[0;32m/tmp/ipykernel_117122/1104260088.py\u001b[0m in \u001b[0;36m<module>\u001b[0;34m\u001b[0m\n\u001b[0;32m----> 1\u001b[0;31m \u001b[0mfirst\u001b[0m \u001b[0;34m+\u001b[0m \u001b[0mint\u001b[0m\u001b[0;34m(\u001b[0m\u001b[0mthird\u001b[0m\u001b[0;34m)\u001b[0m\u001b[0;34m\u001b[0m\u001b[0;34m\u001b[0m\u001b[0m\n\u001b[0m",
      "\u001b[0;31mValueError\u001b[0m: invalid literal for int() with base 10: '1.1'"
     ]
    }
   ],
   "source": [
    "first + int(third)"
   ]
  },
  {
   "cell_type": "code",
   "execution_count": 66,
   "id": "ae0c3806-2e51-47f9-832c-c4484c6400bd",
   "metadata": {},
   "outputs": [
    {
     "data": {
      "text/plain": [
       "2.0"
      ]
     },
     "execution_count": 66,
     "metadata": {},
     "output_type": "execute_result"
    }
   ],
   "source": [
    "first + int(float(third))"
   ]
  },
  {
   "cell_type": "code",
   "execution_count": 67,
   "id": "11541a45-f5c1-4c93-908b-02e4d0ed82ef",
   "metadata": {},
   "outputs": [
    {
     "data": {
      "text/plain": [
       "2"
      ]
     },
     "execution_count": 67,
     "metadata": {},
     "output_type": "execute_result"
    }
   ],
   "source": [
    "int(first) + int(float(third))"
   ]
  },
  {
   "cell_type": "code",
   "execution_count": 68,
   "id": "c57a8dd6-2336-44bc-93b9-4c604d340994",
   "metadata": {},
   "outputs": [
    {
     "ename": "TypeError",
     "evalue": "can't multiply sequence by non-int of type 'float'",
     "output_type": "error",
     "traceback": [
      "\u001b[0;31m---------------------------------------------------------------------------\u001b[0m",
      "\u001b[0;31mTypeError\u001b[0m                                 Traceback (most recent call last)",
      "\u001b[0;32m/tmp/ipykernel_117122/604419672.py\u001b[0m in \u001b[0;36m<module>\u001b[0;34m\u001b[0m\n\u001b[0;32m----> 1\u001b[0;31m \u001b[0;36m2.0\u001b[0m \u001b[0;34m*\u001b[0m \u001b[0msecond\u001b[0m\u001b[0;34m\u001b[0m\u001b[0;34m\u001b[0m\u001b[0m\n\u001b[0m",
      "\u001b[0;31mTypeError\u001b[0m: can't multiply sequence by non-int of type 'float'"
     ]
    }
   ],
   "source": [
    "2.0 * second"
   ]
  },
  {
   "cell_type": "code",
   "execution_count": 70,
   "id": "3a341d8a-ebea-46e4-9828-b69f7277c5ac",
   "metadata": {},
   "outputs": [
    {
     "ename": "ValueError",
     "evalue": "invalid literal for int() with base 10: '1.0'",
     "output_type": "error",
     "traceback": [
      "\u001b[0;31m---------------------------------------------------------------------------\u001b[0m",
      "\u001b[0;31mValueError\u001b[0m                                Traceback (most recent call last)",
      "\u001b[0;32m/tmp/ipykernel_117122/875064834.py\u001b[0m in \u001b[0;36m<module>\u001b[0;34m\u001b[0m\n\u001b[0;32m----> 1\u001b[0;31m \u001b[0mint\u001b[0m\u001b[0;34m(\u001b[0m\u001b[0;34m\"1.0\"\u001b[0m\u001b[0;34m)\u001b[0m\u001b[0;34m\u001b[0m\u001b[0;34m\u001b[0m\u001b[0m\n\u001b[0m",
      "\u001b[0;31mValueError\u001b[0m: invalid literal for int() with base 10: '1.0'"
     ]
    }
   ],
   "source": [
    "int(\"1.0\")"
   ]
  },
  {
   "cell_type": "markdown",
   "id": "0557b60d-307c-4718-be35-11aade600013",
   "metadata": {},
   "source": [
    "### Types of Division\n",
    "//  = integer division\n",
    "\n",
    "/ = float division\n",
    "\n",
    "% = remainder of integer division (modulo)"
   ]
  },
  {
   "cell_type": "code",
   "execution_count": 71,
   "id": "c3068434-fee0-407b-a0b8-1f4246e551b0",
   "metadata": {},
   "outputs": [
    {
     "name": "stdout",
     "output_type": "stream",
     "text": [
      "1\n"
     ]
    }
   ],
   "source": [
    "print(5 // 3)"
   ]
  },
  {
   "cell_type": "code",
   "execution_count": 72,
   "id": "ee397e21-8e76-4a81-b2c8-a6f2fbf92458",
   "metadata": {},
   "outputs": [
    {
     "name": "stdout",
     "output_type": "stream",
     "text": [
      "2\n"
     ]
    }
   ],
   "source": [
    "print(5 % 3) "
   ]
  },
  {
   "cell_type": "code",
   "execution_count": 73,
   "id": "dff4c906-7426-4032-866c-73634ecc14b1",
   "metadata": {},
   "outputs": [
    {
     "name": "stdout",
     "output_type": "stream",
     "text": [
      "1.6666666666666667\n"
     ]
    }
   ],
   "source": [
    "print(5 / 3) "
   ]
  },
  {
   "cell_type": "code",
   "execution_count": 74,
   "id": "f3cd603c-4bd7-4218-b884-a3e00b7eb48a",
   "metadata": {},
   "outputs": [
    {
     "name": "stdout",
     "output_type": "stream",
     "text": [
      "2.0\n"
     ]
    }
   ],
   "source": [
    "print(4/2)"
   ]
  },
  {
   "cell_type": "markdown",
   "id": "63cd949c-e394-40dc-97f5-fa4f7cb4c09c",
   "metadata": {},
   "source": [
    "# Built-In Functions Help"
   ]
  },
  {
   "cell_type": "markdown",
   "id": "da5a6bd3-6850-4a24-a1c4-e0cfd12b4fa6",
   "metadata": {},
   "source": [
    "- len(): one input \n",
    "- int(), str(), float(): one input\n",
    "- print(): any number"
   ]
  },
  {
   "cell_type": "code",
   "execution_count": 75,
   "id": "a218120a-6e73-43b8-9739-33c66c24ad4f",
   "metadata": {},
   "outputs": [
    {
     "name": "stdout",
     "output_type": "stream",
     "text": [
      "first\n",
      "\n",
      "second\n"
     ]
    }
   ],
   "source": [
    "print(\"first\")\n",
    "print()\n",
    "print(\"second\")"
   ]
  },
  {
   "cell_type": "code",
   "execution_count": 76,
   "id": "ea90d377-73ab-4217-ae0f-4c5572670225",
   "metadata": {},
   "outputs": [
    {
     "name": "stdout",
     "output_type": "stream",
     "text": [
      "2\n"
     ]
    }
   ],
   "source": [
    "print(len(\"hi\"))"
   ]
  },
  {
   "cell_type": "code",
   "execution_count": 77,
   "id": "9ca4879a-39b8-404d-8647-42cb51c10377",
   "metadata": {},
   "outputs": [
    {
     "name": "stdout",
     "output_type": "stream",
     "text": [
      "hi\n",
      "None\n"
     ]
    }
   ],
   "source": [
    "result = print(\"hi\")\n",
    "print(result)"
   ]
  },
  {
   "cell_type": "code",
   "execution_count": 78,
   "id": "612a0f74-66da-4c8b-8e86-1edb9a0a2871",
   "metadata": {},
   "outputs": [
    {
     "name": "stdout",
     "output_type": "stream",
     "text": [
      "1\n",
      "3\n"
     ]
    }
   ],
   "source": [
    "print(min(1,2,3))\n",
    "print(max(1,2,3))"
   ]
  },
  {
   "cell_type": "code",
   "execution_count": 79,
   "id": "b776164c-e5b4-4a14-b3a0-71ee72f93cc6",
   "metadata": {},
   "outputs": [
    {
     "name": "stdout",
     "output_type": "stream",
     "text": [
      "0\n",
      "a\n"
     ]
    }
   ],
   "source": [
    "print(min(\"a\", \"A\", \"0\"))\n",
    "print(max(\"a\", \"A\", \"0\"))"
   ]
  },
  {
   "cell_type": "code",
   "execution_count": 80,
   "id": "2aef8b75-e408-4261-a217-1fc6b3bcd88a",
   "metadata": {},
   "outputs": [
    {
     "name": "stdout",
     "output_type": "stream",
     "text": [
      "2\n"
     ]
    }
   ],
   "source": [
    "print(round(2.3))"
   ]
  },
  {
   "cell_type": "code",
   "execution_count": 81,
   "id": "3c405df7-904f-46c5-903c-6c964634177b",
   "metadata": {},
   "outputs": [
    {
     "name": "stdout",
     "output_type": "stream",
     "text": [
      "-4\n"
     ]
    }
   ],
   "source": [
    "print(round(-4.3))"
   ]
  },
  {
   "cell_type": "code",
   "execution_count": 82,
   "id": "168fb044-b330-4627-967e-7d2918751935",
   "metadata": {},
   "outputs": [
    {
     "name": "stdout",
     "output_type": "stream",
     "text": [
      "2.6\n"
     ]
    }
   ],
   "source": [
    "# exercise until 11:31\n",
    "radiance = 1.0\n",
    "radiance = max(2.1, 2.0 + min(radiance, 1.1 * radiance - 0.5))\n",
    "print(radiance)"
   ]
  },
  {
   "cell_type": "code",
   "execution_count": 83,
   "id": "d568665e-fca7-4f4b-854f-bde87e43ee4a",
   "metadata": {},
   "outputs": [
    {
     "name": "stdout",
     "output_type": "stream",
     "text": [
      "c\n"
     ]
    }
   ],
   "source": [
    "easy_string = \"abc\"\n",
    "print(max(easy_string))"
   ]
  },
  {
   "cell_type": "code",
   "execution_count": 84,
   "id": "348cee8c-61ba-48fb-8ddd-8c53ec0db320",
   "metadata": {},
   "outputs": [
    {
     "name": "stdout",
     "output_type": "stream",
     "text": [
      "tin\n"
     ]
    }
   ],
   "source": [
    "rich = \"gold\"\n",
    "poor = \"tin\"\n",
    "print(max(rich, poor))"
   ]
  },
  {
   "cell_type": "code",
   "execution_count": 85,
   "id": "e54b62bb-53c4-4982-81f2-75dba52f0848",
   "metadata": {},
   "outputs": [
    {
     "name": "stdout",
     "output_type": "stream",
     "text": [
      "4\n"
     ]
    }
   ],
   "source": [
    "print(max(len(rich), len(poor)))"
   ]
  },
  {
   "cell_type": "code",
   "execution_count": 86,
   "id": "5b711f6f-bb5c-4e72-8eb3-f9bb6c2cb6a5",
   "metadata": {},
   "outputs": [
    {
     "ename": "TypeError",
     "evalue": "'>' not supported between instances of 'str' and 'int'",
     "output_type": "error",
     "traceback": [
      "\u001b[0;31m---------------------------------------------------------------------------\u001b[0m",
      "\u001b[0;31mTypeError\u001b[0m                                 Traceback (most recent call last)",
      "\u001b[0;32m/tmp/ipykernel_117122/2520083565.py\u001b[0m in \u001b[0;36m<module>\u001b[0;34m\u001b[0m\n\u001b[0;32m----> 1\u001b[0;31m \u001b[0mprint\u001b[0m\u001b[0;34m(\u001b[0m\u001b[0mmax\u001b[0m\u001b[0;34m(\u001b[0m\u001b[0mlen\u001b[0m\u001b[0;34m(\u001b[0m\u001b[0mrich\u001b[0m\u001b[0;34m)\u001b[0m\u001b[0;34m,\u001b[0m \u001b[0mpoor\u001b[0m\u001b[0;34m)\u001b[0m\u001b[0;34m)\u001b[0m\u001b[0;34m\u001b[0m\u001b[0;34m\u001b[0m\u001b[0m\n\u001b[0m",
      "\u001b[0;31mTypeError\u001b[0m: '>' not supported between instances of 'str' and 'int'"
     ]
    }
   ],
   "source": [
    "print(max(len(rich), poor))"
   ]
  },
  {
   "cell_type": "code",
   "execution_count": 87,
   "id": "d0b9a84e-cf1c-416a-b2cf-5917f5beb846",
   "metadata": {},
   "outputs": [
    {
     "name": "stdout",
     "output_type": "stream",
     "text": [
      "4\n"
     ]
    }
   ],
   "source": [
    "print(round(3.712))"
   ]
  },
  {
   "cell_type": "code",
   "execution_count": 88,
   "id": "737a7708-001d-4de5-b766-32498d5dccc3",
   "metadata": {},
   "outputs": [
    {
     "name": "stdout",
     "output_type": "stream",
     "text": [
      "3.7\n"
     ]
    }
   ],
   "source": [
    "print(round(3.712, 1))"
   ]
  },
  {
   "cell_type": "code",
   "execution_count": 89,
   "id": "d5a87f5f-ff96-497a-9098-904a7ac4b0f3",
   "metadata": {},
   "outputs": [
    {
     "name": "stdout",
     "output_type": "stream",
     "text": [
      "11\n"
     ]
    }
   ],
   "source": [
    "my_string = \"Hello World\"\n",
    "print(len(my_string))"
   ]
  },
  {
   "cell_type": "code",
   "execution_count": 90,
   "id": "65999911-a6d2-484e-a298-7166ad3c86cf",
   "metadata": {},
   "outputs": [
    {
     "name": "stdout",
     "output_type": "stream",
     "text": [
      "11\n"
     ]
    }
   ],
   "source": [
    "print(my_string.__len__())"
   ]
  },
  {
   "cell_type": "code",
   "execution_count": 91,
   "id": "92f165e4-4a79-42af-a1b1-c56800742bfb",
   "metadata": {},
   "outputs": [
    {
     "name": "stdout",
     "output_type": "stream",
     "text": [
      "hELLO wORLD\n"
     ]
    }
   ],
   "source": [
    "print(my_string.swapcase())"
   ]
  },
  {
   "cell_type": "code",
   "execution_count": 92,
   "id": "102813dc-2540-47b3-bce7-4c2b070f6435",
   "metadata": {},
   "outputs": [
    {
     "name": "stdout",
     "output_type": "stream",
     "text": [
      "False\n"
     ]
    }
   ],
   "source": [
    "print(my_string.isupper())"
   ]
  },
  {
   "cell_type": "code",
   "execution_count": 93,
   "id": "a6dad332-5893-48c4-81c1-3c5cae1040a6",
   "metadata": {},
   "outputs": [
    {
     "name": "stdout",
     "output_type": "stream",
     "text": [
      "HELLO WORLD\n"
     ]
    }
   ],
   "source": [
    "print(my_string.upper())"
   ]
  },
  {
   "cell_type": "code",
   "execution_count": 94,
   "id": "b229339a-cadf-4962-ac57-1aa1119ca12f",
   "metadata": {},
   "outputs": [
    {
     "name": "stdout",
     "output_type": "stream",
     "text": [
      "Hello World\n"
     ]
    }
   ],
   "source": [
    "print(my_string)"
   ]
  },
  {
   "cell_type": "code",
   "execution_count": 95,
   "id": "2d425a08-50af-4f52-976c-6b5bc51f89d5",
   "metadata": {},
   "outputs": [
    {
     "name": "stdout",
     "output_type": "stream",
     "text": [
      "Hello World HELLO WORLD\n"
     ]
    }
   ],
   "source": [
    "new_string = my_string.upper()\n",
    "print(my_string, new_string)"
   ]
  },
  {
   "cell_type": "code",
   "execution_count": 96,
   "id": "437eda91-b85b-43a6-835a-a66c34f5e032",
   "metadata": {},
   "outputs": [
    {
     "name": "stdout",
     "output_type": "stream",
     "text": [
      "True\n"
     ]
    }
   ],
   "source": [
    "print(my_string.upper().isupper())"
   ]
  },
  {
   "cell_type": "code",
   "execution_count": 97,
   "id": "42cd5f70-939b-450b-8ef3-44b2381af0bd",
   "metadata": {},
   "outputs": [
    {
     "name": "stdout",
     "output_type": "stream",
     "text": [
      "True\n"
     ]
    }
   ],
   "source": [
    "second_string = my_string.upper()\n",
    "print(second_string.isupper())"
   ]
  },
  {
   "cell_type": "code",
   "execution_count": 99,
   "id": "8603ae36-5cdb-41b2-b812-568ad2af646b",
   "metadata": {},
   "outputs": [
    {
     "name": "stdout",
     "output_type": "stream",
     "text": [
      "Help on built-in function round in module builtins:\n",
      "\n",
      "round(number, ndigits=None)\n",
      "    Round a number to a given precision in decimal digits.\n",
      "    \n",
      "    The return value is an integer if ndigits is omitted or None.  Otherwise\n",
      "    the return value has the same type as the number.  ndigits may be negative.\n",
      "\n"
     ]
    }
   ],
   "source": [
    "help(round)"
   ]
  },
  {
   "cell_type": "code",
   "execution_count": 100,
   "id": "8a08af53-f703-418a-82cd-ba4f61221a20",
   "metadata": {},
   "outputs": [
    {
     "data": {
      "text/plain": [
       "<function round(number, ndigits=None)>"
      ]
     },
     "execution_count": 100,
     "metadata": {},
     "output_type": "execute_result"
    }
   ],
   "source": [
    "round # shift + tab to see help in jupyter"
   ]
  },
  {
   "cell_type": "code",
   "execution_count": 104,
   "id": "fdfb39ec-f9fe-482e-8ef6-5111ba910cd3",
   "metadata": {},
   "outputs": [
    {
     "data": {
      "text/plain": [
       "\u001b[0;31mSignature:\u001b[0m \u001b[0mround\u001b[0m\u001b[0;34m(\u001b[0m\u001b[0mnumber\u001b[0m\u001b[0;34m,\u001b[0m \u001b[0mndigits\u001b[0m\u001b[0;34m=\u001b[0m\u001b[0;32mNone\u001b[0m\u001b[0;34m)\u001b[0m\u001b[0;34m\u001b[0m\u001b[0;34m\u001b[0m\u001b[0m\n",
       "\u001b[0;31mDocstring:\u001b[0m\n",
       "Round a number to a given precision in decimal digits.\n",
       "\n",
       "The return value is an integer if ndigits is omitted or None.  Otherwise\n",
       "the return value has the same type as the number.  ndigits may be negative.\n",
       "\u001b[0;31mType:\u001b[0m      builtin_function_or_method\n"
      ]
     },
     "metadata": {},
     "output_type": "display_data"
    }
   ],
   "source": [
    "?round "
   ]
  },
  {
   "cell_type": "markdown",
   "id": "8199995b-2864-4c70-b7c3-8c55b9a9bc2d",
   "metadata": {},
   "source": [
    "Open help pane: Ctrl + I (or context menu: \"Show contextual help\")"
   ]
  },
  {
   "cell_type": "code",
   "execution_count": 105,
   "id": "2748a3bf-ca4d-4f02-ab72-86f616e96f2d",
   "metadata": {},
   "outputs": [
    {
     "ename": "SyntaxError",
     "evalue": "EOL while scanning string literal (3081337653.py, line 1)",
     "output_type": "error",
     "traceback": [
      "\u001b[0;36m  File \u001b[0;32m\"/tmp/ipykernel_117122/3081337653.py\"\u001b[0;36m, line \u001b[0;32m1\u001b[0m\n\u001b[0;31m    name = \"Feng\u001b[0m\n\u001b[0m                ^\u001b[0m\n\u001b[0;31mSyntaxError\u001b[0m\u001b[0;31m:\u001b[0m EOL while scanning string literal\n"
     ]
    }
   ],
   "source": [
    "name = \"Feng"
   ]
  },
  {
   "cell_type": "code",
   "execution_count": 106,
   "id": "9f967bcd-b88e-4a8b-b626-c4fb8be43626",
   "metadata": {},
   "outputs": [],
   "source": [
    "name = \"Feng\""
   ]
  },
  {
   "cell_type": "code",
   "execution_count": 107,
   "id": "49913d5f-dfe7-4411-9d3a-8812e6a2972f",
   "metadata": {},
   "outputs": [
    {
     "ename": "SyntaxError",
     "evalue": "unexpected EOF while parsing (4227803888.py, line 1)",
     "output_type": "error",
     "traceback": [
      "\u001b[0;36m  File \u001b[0;32m\"/tmp/ipykernel_117122/4227803888.py\"\u001b[0;36m, line \u001b[0;32m1\u001b[0m\n\u001b[0;31m    print(\"hello\"\u001b[0m\n\u001b[0m                 ^\u001b[0m\n\u001b[0;31mSyntaxError\u001b[0m\u001b[0;31m:\u001b[0m unexpected EOF while parsing\n"
     ]
    }
   ],
   "source": [
    "print(\"hello\""
   ]
  },
  {
   "cell_type": "code",
   "execution_count": 108,
   "id": "f7b31604-55c4-44bd-b28c-d8a336a93a82",
   "metadata": {},
   "outputs": [
    {
     "ename": "SyntaxError",
     "evalue": "invalid syntax (2485333282.py, line 1)",
     "output_type": "error",
     "traceback": [
      "\u001b[0;36m  File \u001b[0;32m\"/tmp/ipykernel_117122/2485333282.py\"\u001b[0;36m, line \u001b[0;32m1\u001b[0m\n\u001b[0;31m    age = = 53\u001b[0m\n\u001b[0m          ^\u001b[0m\n\u001b[0;31mSyntaxError\u001b[0m\u001b[0;31m:\u001b[0m invalid syntax\n"
     ]
    }
   ],
   "source": [
    "age = = 53"
   ]
  },
  {
   "cell_type": "code",
   "execution_count": 109,
   "id": "66049c5a-7e6b-4023-b987-d35fc442495d",
   "metadata": {},
   "outputs": [
    {
     "ename": "NameError",
     "evalue": "name 'aeg' is not defined",
     "output_type": "error",
     "traceback": [
      "\u001b[0;31m---------------------------------------------------------------------------\u001b[0m",
      "\u001b[0;31mNameError\u001b[0m                                 Traceback (most recent call last)",
      "\u001b[0;32m/tmp/ipykernel_117122/299205628.py\u001b[0m in \u001b[0;36m<module>\u001b[0;34m\u001b[0m\n\u001b[1;32m      1\u001b[0m \u001b[0mage\u001b[0m \u001b[0;34m=\u001b[0m \u001b[0;36m53\u001b[0m\u001b[0;34m\u001b[0m\u001b[0;34m\u001b[0m\u001b[0m\n\u001b[0;32m----> 2\u001b[0;31m \u001b[0mremaining\u001b[0m \u001b[0;34m=\u001b[0m \u001b[0;36m100\u001b[0m \u001b[0;34m-\u001b[0m \u001b[0maeg\u001b[0m\u001b[0;34m\u001b[0m\u001b[0;34m\u001b[0m\u001b[0m\n\u001b[0m",
      "\u001b[0;31mNameError\u001b[0m: name 'aeg' is not defined"
     ]
    }
   ],
   "source": [
    "age = 53 \n",
    "remaining = 100 - aeg "
   ]
  },
  {
   "cell_type": "markdown",
   "id": "f981e771-97b2-4874-9f66-cd087ec43f99",
   "metadata": {},
   "source": [
    "# Libraries"
   ]
  },
  {
   "cell_type": "code",
   "execution_count": 110,
   "id": "57ce8804-d0ad-46a5-ad16-6b82d32dccc6",
   "metadata": {},
   "outputs": [],
   "source": [
    "import math"
   ]
  },
  {
   "cell_type": "code",
   "execution_count": 111,
   "id": "2f854b06-0244-4dfb-9864-a4e71b998439",
   "metadata": {},
   "outputs": [
    {
     "name": "stdout",
     "output_type": "stream",
     "text": [
      "3.141592653589793\n"
     ]
    }
   ],
   "source": [
    "print(math.pi)"
   ]
  },
  {
   "cell_type": "code",
   "execution_count": 112,
   "id": "bad58629-7d45-4086-97f1-3dcf4f605329",
   "metadata": {},
   "outputs": [
    {
     "name": "stdout",
     "output_type": "stream",
     "text": [
      "-1.0\n"
     ]
    }
   ],
   "source": [
    "print(math.cos(math.pi))"
   ]
  },
  {
   "cell_type": "code",
   "execution_count": 113,
   "id": "aac8d5b1-dd3c-4bde-a032-5755042ed17d",
   "metadata": {},
   "outputs": [
    {
     "ename": "NameError",
     "evalue": "name 'pi' is not defined",
     "output_type": "error",
     "traceback": [
      "\u001b[0;31m---------------------------------------------------------------------------\u001b[0m",
      "\u001b[0;31mNameError\u001b[0m                                 Traceback (most recent call last)",
      "\u001b[0;32m/tmp/ipykernel_117122/4203947370.py\u001b[0m in \u001b[0;36m<module>\u001b[0;34m\u001b[0m\n\u001b[0;32m----> 1\u001b[0;31m \u001b[0mprint\u001b[0m\u001b[0;34m(\u001b[0m\u001b[0mmath\u001b[0m\u001b[0;34m.\u001b[0m\u001b[0mcos\u001b[0m\u001b[0;34m(\u001b[0m\u001b[0mpi\u001b[0m\u001b[0;34m)\u001b[0m\u001b[0;34m)\u001b[0m\u001b[0;34m\u001b[0m\u001b[0;34m\u001b[0m\u001b[0m\n\u001b[0m",
      "\u001b[0;31mNameError\u001b[0m: name 'pi' is not defined"
     ]
    }
   ],
   "source": [
    "print(math.cos(pi))"
   ]
  },
  {
   "cell_type": "code",
   "execution_count": 114,
   "id": "94b81e15-d58e-413c-b417-79413cd314d3",
   "metadata": {},
   "outputs": [],
   "source": [
    "# pypi  = Python Package Index"
   ]
  },
  {
   "cell_type": "code",
   "execution_count": 116,
   "id": "ddebfe8c-6c34-44d8-ab90-6ce03a33cc54",
   "metadata": {},
   "outputs": [
    {
     "name": "stdout",
     "output_type": "stream",
     "text": [
      "-1.0\n"
     ]
    }
   ],
   "source": [
    "from math import cos, pi\n",
    "print(cos(pi))"
   ]
  },
  {
   "cell_type": "code",
   "execution_count": 121,
   "id": "8e14fe09-a008-4393-a31d-11313230783d",
   "metadata": {},
   "outputs": [
    {
     "name": "stdout",
     "output_type": "stream",
     "text": [
      "-1.0\n"
     ]
    }
   ],
   "source": [
    "import math as m \n",
    "print(m.cos(m.pi)) # this is a comment # this is still a comment\n",
    "# m is math\n",
    "# cos is the cosine "
   ]
  },
  {
   "cell_type": "code",
   "execution_count": null,
   "id": "dd2cc3e9-b0ed-467b-8481-a173b2f7d314",
   "metadata": {},
   "outputs": [],
   "source": [
    "# search for a python library in your field - until 12:15"
   ]
  }
 ],
 "metadata": {
  "kernelspec": {
   "display_name": "Python 3 (ipykernel)",
   "language": "python",
   "name": "python3"
  },
  "language_info": {
   "codemirror_mode": {
    "name": "ipython",
    "version": 3
   },
   "file_extension": ".py",
   "mimetype": "text/x-python",
   "name": "python",
   "nbconvert_exporter": "python",
   "pygments_lexer": "ipython3",
   "version": "3.8.10"
  }
 },
 "nbformat": 4,
 "nbformat_minor": 5
}
